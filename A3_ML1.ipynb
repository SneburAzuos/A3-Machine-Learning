{
  "cells": [
    {
      "cell_type": "markdown",
      "metadata": {
        "id": "view-in-github",
        "colab_type": "text"
      },
      "source": [
        "<a href=\"https://colab.research.google.com/github/SneburAzuos/A3-Machine-Learning/blob/main/A3_ML1.ipynb\" target=\"_parent\"><img src=\"https://colab.research.google.com/assets/colab-badge.svg\" alt=\"Open In Colab\"/></a>"
      ]
    },
    {
      "cell_type": "markdown",
      "metadata": {
        "id": "JidP7eKHgSfq"
      },
      "source": [
        "# **UNIVERSIDADE ANHEMBI MORUMBI**\n",
        "\n",
        "***ATIVIDADE A3 – Machine Learning e Deep Learning***\n",
        "\n",
        "Integrantes/RA:\n",
        "\n",
        "    Jefferson Dantas dos Santos - 125111360482\n",
        "\n",
        "    Diogo Keiti Matsuda Yamagata – 125111370902\n",
        "\n",
        "    Beatriz Freitas Monteiro – 125111356183\n",
        "\n",
        "    Guilherme Mendes Espanholi da Silva – 125111356673\n",
        "\n",
        "    Rubens de Jesus Souza – 125111345885\n"
      ]
    },
    {
      "cell_type": "markdown",
      "metadata": {
        "id": "rniTiaOtg06m"
      },
      "source": [
        "# 1.0 - Introdução\n",
        " \n",
        " 1.1 - O que é um Dataset?\n",
        " \n",
        " 1.2 - O que é Analise Exploratoria de Dados?\n",
        " \n",
        " 1.3 - O que são as tecnicas de Pré-processamento?\n",
        " \n",
        " 1.4 - O que são Algoritmos de Machine Learning?\n",
        " \n",
        "    1.4.1 - KNN\n",
        " \n",
        "    1.4.2 - K - Means\n",
        " \n",
        "    1.4.3 - Regressão Linear\n",
        " \n",
        "    1.4.4 - Regressão Logistica\n",
        " \n",
        "    1.4.5 - Arvores de Decisão\n",
        " \n",
        "    1.4.6 - Redes Neurais Artificias\n",
        " \n",
        "  1.5 - O que são Calculos de Metricas de Qualidade\n",
        " \n",
        "    1.5.1 - Acuracia\n",
        " \n",
        "    1.5.2 - Precisão\n",
        " \n",
        "    1.5.3 - Matriz Confusão\n",
        "# 2.0 - Sobre o Nosso Dataset\n",
        "\n",
        "\n",
        "2.1 - Porque escolhemos esse Dataset\n",
        "\n",
        "2.2 - Sobre o nosso Problema\n",
        "\n",
        "2.3 - Como a técnica de ML escolhida é aplicada no modelo\n",
        "\n",
        "# 3.0 - Desenvolvimento\n",
        "3.1 - Importando as bibliotecas\n",
        "\n",
        "3.2 - Importando Dataset\n",
        "\n",
        "3.3 - limpando as colunas vazias. Primeiro uma contagem de quantos valores vazios temos no dataset\n",
        "\n",
        "3.4 - Limpando os valores vazios do dataset\n",
        "\n",
        "3.5 - Marcas mais vendidas de carros\n",
        "\n",
        "3.6 - Gráfico de dispersão por ano x preço com divisão entre tipos de combustível\n",
        "\n",
        "3.7 - Gráfico de progressão de ano por valor\n",
        "\n",
        "3.8 - Plotando gráfico para entender a evolução de preços por ano\n",
        "\n",
        "3.9 - Modelos mais vendidos de carros\n",
        "\n",
        "3.10 - Plotando gráfico de distribuição para entender qual é a melhor forma de padronização dos dados.\n",
        "\n",
        "3.11 - Analisando os nossos dados de PREÇO em um gráfico de dispersão\n",
        "\n",
        "3.12 - Analisando os nossos dados de POTÊNCIA EM CAVALOS em um gráfico de dispersão.\n",
        "\n",
        "3.13 - Analisando os nossos dados de anos em um gráfico de dispersão\n",
        "\n",
        "3.14 - Carros vendidos por menos de 5 mil.\n",
        "\n",
        "3.15 - Colocando as principais marcas do preço em um histograma\n",
        "\n",
        "3.16 - Convertendo colunas do tipo \"object\" para \"category\"}\n",
        "\n",
        "3.17 - Transformando nossos dados categóricos em numéricos.\n",
        "\n",
        "3.18 - Criando X e y para nosso modelo.\n",
        "Separando o preço do Dataframe para a variável dependente (y)\n",
        "\n",
        "3.19 - Separando bases de treino e teste.\n",
        "\n",
        "3.20 - Treinando nosso modelo.\n",
        "\n",
        "3.21 - Testando nosso modelo\n",
        "\n",
        "3.22 - Verificando o score quadratico do nosso modelo\n",
        "\n",
        "#4.0 - Conclusão\n",
        "\n",
        "#5.0 - Referências Bibliográficas\n",
        "\n",
        "\n",
        "\n",
        "---\n",
        "\n",
        "\n",
        "---\n",
        "\n",
        "\n",
        "\n",
        "---\n",
        "\n",
        "#1.0 - Introdução\n",
        "\n",
        "\n",
        "Vivemos em uma nova era. O avanço do conhecimento humano está criando tecnologias cada vez mais avançadas, talvez podemos pensar que um dia o ser humano possa ser substituído por máquinas em muitas áreas do mundo, desde um simples atendimento em uma recepção de um hotel, até um robô cirurgião capaz de fazer cortes extremamente precisos em um corpo humano debilitado. Um grande exemplo da superação das máquinas foi a vitória de um computador contra o grande campeão de xadrez Garry Kasparov em 1996. Hoje, 25 anos depois as máquinas estão ainda mais evoluídas, tanto que podemos dizer que elas são insuperáveis em várias áreas do conhecimento, por serem capazes de armazenar milhões de dados de informações, enquanto um ser humano comum não seria capaz de tal feito. Poderíamos apenas continuar inserindo dados nas máquinas para que elas continuassem adquirindo conhecimento, mas será que ela conseguiria fazer muito mais? \n",
        "Entramos agora em uma ideia muito utilizada nas grandes empresas atualmente, mas que continuam sendo desconhecidas para o público geral. Estamos falando de Machine Learning e Deep Learning. Podemos dizer que são a grande evolução das máquinas, agora sendo capazes de aprenderem como um ser vivo, e serem capazes de muitas coisas além de poder calcular uma conta aritmética de primeiro grau. Através de códigos, podemos criar e moldar um software para aprender uma tarefa, e a realizar como um ser humano normalmente faria. Mas, afinal, o que é Machine Learning e Deep Learning?\n",
        "\n",
        "\n",
        "- Machine Learning: Traduzindo do inglês, seria “aprendizado de máquina”, pois com esse método as máquinas realmente “aprendem” a realizar certas tarefas através de algoritmos. Podemos definir o ML como o uso de algoritmos para organizar dados e reconhecer padrões, com o propósito de fazer com as máquinas aprendam. O conceito surgiu em 1956, mas devido a falta de potência tecnológica, só se pode colocar em prática recentemente. Os algoritmos de ML aprendem a partir dos dados que são passados para eles, dessa forma, as máquinas são treinadas para aprenderem a executar diferentes tarefas de forma autônoma. Além disso, esses algoritmos sempre estarão recebendo novos dados e remodelando o seu conhecimento para conseguirem darem respostam mais atualizadas e mais confiáveis. E a partir de todo esse avanço com as IAs e Machine Learning, atualmente somos capazes de fazer algoritmos extremamente complexos e ágeis em seus aprendizados e respostas, um passo adiante em ML, estamos falando de Deep Learning.\n",
        "- Deep Learning: É uma evolução de ML que traduzindo seria “aprendizagem profunda”, pois agora com algoritmos de alto nível muito mais complexos, essa tecnologia é capaz de simular a rede neural de um cérebro humano. Para que essa tecnologia fosse possível, foi criado o princípio de redes neurais artificiais que que suporta várias camadas, conexões e propagações de dados que simular os neurônios. São alimentados por quantidades imensas de dados e podem, por exemplo, reconhecer animais em uma foto pixelada.\n",
        "A partir desses conceitos de ML e Deep Learning, iremos aprofundar em outras situações dessa tão incrível área da tecnologia que está revolucionando o mundo e tudo que sabemos dele. \n",
        "\n",
        "#1.1 - O que é um Dataset?\n",
        "São bases de dados específicos que servem como amostras para treinamento de algoritmos de inteligência artificial ou outros tipos de projetos de ciência de dados. Essas bases de dados geralmente são organizadas em formato tabular, com linhas e colunas bem definidas e organizadas e uma descrição clara de sua finalidade. Os formatos variam entre CSV, TXT, XML e até XLS.\n",
        "Especificamente, os dados dos Datasets podem ser usados para treinar algoritmos de aprendizado de máquina que preveem certas informações; como também podem servir como base para visualização de dados, gráficos e relatórios podem descrever mais diretamente a base e extrair insights.\n",
        "Uma coisa útil sobre os Datasets é que, como já mencionamos, eles vêm em linhas e colunas. Por exemplo, podemos ter números de registro em uma linha e recursos em colunas. Com base em uma empresa de varejo, as linhas podem conter vendas, enquanto as colunas exibem características como valor total e forma de pagamento.\n",
        "Um dos desafios, no entanto, é que muitos dos dados nessas linhas e colunas têm inconsistências que dificultam a análise. Um exemplo: dados ausentes. Outro exemplo: Dados inválidos ou incorretos. Sem falar nos dados duplicados que também afetam a qualidade da análise. Nesses casos, é necessário submeter o conjunto de dados a uma sessão de limpeza e processamento antes de treinar o sistema com um algoritmo específico.\n",
        "\n",
        "#1.2 - O que é Análise Exploratória de Dados?\n",
        "A análise exploratória de dados (EDA) é usada por cientistas de dados para analisar e investigar conjuntos de dados e resumir suas principais características, muitas vezes usando métodos de visualização de dados. A EDA permite determinar a melhor maneira de se controlas as fontes de dados para se obter as respostas de um problema, fazendo com se torne mais fácil para que os cientistas de dados possam descobrir padrões, detectar anomalias e testar hipóteses.\n",
        "A EDA é responsável por identificar o que os dados podem mostrar além da tarefa normal de modelagem ou teste de hipótese, sendo assim, proporciona uma melhor compreensão das variáveis de conjunto de dados e suas relações. É capaz também de determinar se as técnicas de estatísticas que estão sendo usadas na análise de dados são as mais adequadas. Uma vez que a EDA estiver completa e seus insights estejam bem definidos, seus recursos estão prontos para serem usados para modelagem ou análise de dados mais sofisticadas, nisso incluindo o Machine Learning (ML).\n",
        "\n",
        "#1.3 – O que são as técnicas de pré-processamento?\n",
        "Umas das responsabilidades de um profissional que trabalha com dados é a etapa de Pré-processamento de dados. É a etapa em que se gasta a maior parte do tempo em um projeto de análise de dados, por ser extremamente trabalhosa e que envolvem alguns passos. Basicamente, o Pré-processamento envolve um conjunto de atividades que “preparam” os dados, sendo: preparação, organização e estruturação dos dados. É uma etapa fundamental que precede as análises dos dados, sem ela, qualquer tipo de análise podemos dizer que é falho e não é seguro de se confiar.\n",
        " O Pré-processamento de dados é um conjunto de técnicas de mineração de dados que são usadas para transformas dados brutos e “inúteis” em dados úteis e eficientes. Nisso, existem 3 grandes etapas fundamentais no Pré-processamento de dados que são: Limpeza de dados, Transformação de dados e Redução de Dados.\n",
        "- Limpeza de dados: Os dados de um Dataset podem conter muitos erros ou partes irrelevantes para futuras análises, ou até mesmo pode falta informações importantes nele. Para resolvermos essa situação, fazemos a Limpeza de dados que basicamente envolve o preenchimento de dados importantes ausentes, redução de ruídos, remoção de valores absurdos ou inúteis e resolução da falta de consistência nos dados.\n",
        "- Transformação de dados: O objetivo dessa etapa é transformar os dados de seus formatos originais para formatos mais apropriados e adequados para o processo de mineração. Para isso é feito a Normalização dos dados (dimensionar os valores dos dados em um intervalo especificado, como de 0,0 para 1,0), Seleção de atributos (novos atributos são gerados a partir do conjunto de atributos fornecidos para ajudar na mineração), Discretização (transferência des funções contínuas, modelos, variáveis e equações em contrapartes discretas, ou seja, a discretização cria um número limitado de possíveis estados) e Geração de hierarquia de conceitos (os atributos são convertidos para um nível um outro nível superior na hierarquia).\n",
        "- Redução de dados: Com o processamento computacional se tornando cada vez mais complexo com a mineração de dados, temos que aumentar a eficiência e reduzir os custos, e para isso usamos o processo de Redução de dados. As etapas vão de Agregação de cubo de dados (construção de um cubo de dados, um formato multidimensional que permite um processo mais rápido por não precisar varrer toda a base em busca de um valor), Seleção de subconjuntos de atributos (utilizar os atributos altamente relevantes em detrimento dos menos relevantes), Redução da numerosidade (faz com que os dados sejam substituídos ou estimados por alternativas de representação de dados menores) e Redução de dimensionalidade (reduz o tamanho dos dados por mecanismos de codificação, podendo ser com ou sem perdas).\n",
        "\n",
        "#1.4 - O que são Algoritmos de Machine Learning?\n",
        "A primeira coisa que devo adiantar, podemos classificar os seguintes principais Algoritmos em dois grupos: Algoritmos de aprendizagem supervisionado e Algoritmos de aprendizagem não supervisionado.\n",
        "Algoritmos de aprendizagem supervisionado: são algoritmos que relacionam uma saída com uma entrada com base em dados “rotulados”, ou seja, o usuário alimenta o Algoritmos com pares de entradas e saídas conhecidas (normalmente em forma de vetores). Portanto, se utilizam de dados de treinamento e feedback humanos para aprenderem. E devemos usar quando sabemos classificar os dados de entrada e o que deseja prever.\n",
        "Algoritmos de aprendizagem não supervisionado: em algoritmos não supervisionados, não é atribuído nenhum “rótulo” para os dados de saída, então o algoritmo busca padrões e similaridades entre os dados que ele tiver, ou seja, não há uma variável de saída explícita. E é recomendável quando o usuário não sabe classificar os dados disponíveis, sendo assim, deseja que o algoritmo seja responsável por encontrar esses padrões para você.\n",
        "A máquina por sua vez, somente pode ser “educada” ou “ensinada” por meios de algoritmos de ML. Dessa forma, podemos de dizer que os algoritmos são sequências ordenadas de comandos, regras e instruções que ao combinar os dados com o Algoritmos te levam a um resultado.\n",
        "\n",
        "\n",
        "1.4.1 - KNN:\n",
        " \n",
        " É um dos métodos de Machine Lerning supervisionado mais usados para problemas de classificação, muito utilizado também em data mining. Sua função é basicamente tentar classificar os dados em “o quão similar um dado é do outro” (seu treinamento usa vetores de n dimensões).\n",
        "- Caso de uso: Podemos usar o KNN para o controle dos movimentos de NPCs em jogos com mapas dinâmicos.\n",
        "\n",
        "\n",
        "\n",
        "1.4.2 - K-means:\n",
        "\n",
        "É um algoritmo de clusterização (ou agrupamento) não supervisionado que coloca os dados em diversos grupos (k), todos contendo dados com características semelhantes, e normalmente se inicia em Python com a importação de bibliotecas.\n",
        "- Caso de uso: Divide os clientes de uma loja de acordo com algumas características, por exemplo, a faixa etária, para assim designar o melhor tipo de Marketing e produtos para aquele nicho de cliente.\n",
        "\n",
        "1.4.3 – Regressão Linear:\n",
        "\n",
        "Podemos dizer que é um dos modelos mais simples, mas um dos mais usados dentre todos em Machine Learning. Sendo um algoritmo de aprendizagem supervisionado, é basicamente uma função de primeiro grau altamente interpretável que podemos usar para modelar a relação de variáveis de entrada independentes e variáveis de saídas dependentes, para podermos prever futuros resultados nas variáveis de saída.\n",
        "- Caso de uso: Entender como as mudanças de preços nas concorrências estão afetando o faturamento mensal de uma empresa ou loja.\n",
        "\n",
        "\n",
        "1.4.4 - Regressão Logística:\n",
        "\n",
        "Podemos dizer que a Regressão Logística é uma extensão da Regressão Linear, esse tipo de Algoritmo de aprendizagem supervisionado é utilizado para classificações e é um dos mais usados no mundo podendo ser usado em quaisquer áreas do mercado. A sua variável de saída é binária, ou seja, só há duas possibilidades e não infinitas delas que nesse caso seria um tipo de saída contínua.\n",
        "- Caso de uso: Classificar os clientes entre propícios a comprar peças masculinas ou peças femininas em loja de roupa em um Shopping.\n",
        "\n",
        "\n",
        "1.4.5 - Árvore de decisão:\n",
        "\n",
        "É o algoritmo de Machine Learning de aprendizagem supervisionado que mais se destaca na sua parte visual, por ser um pouco parecido com um fluxograma com várias etapas em sua composição que são fáceis de se visualizar e entender. O modelo divide os valores dos recursos de dados em ramos em seus “nós de decisão” que vão se expandindo até que chegue em uma decisão.\n",
        "- Caso de uso: Criar uma estrutura de decisão para futuras contratações de novos funcionários.\n",
        "\n",
        "1.4.6 - Redes Neurais Artificiais:\n",
        "\n",
        "Algoritmo de Machine Learning de aprendizagem supervisionado, é um modelo que tem como característica mais marcante, a sua estrutura que se parece muito com a rede de neurônios do cérebro humano. É um sistema de vários nós que se conectam através das ramificações, e que aprendem com atualizações e amplificações das interconexões entre os “neurônios’ dessa rede neural.\n",
        "- Caso de uso: Prever as chances de um paciente desenvolver uma certa doença genética\n",
        "\n",
        "#1.5 - O que são cálculos de métricas de qualidade\n",
        "Quando é construído um classificador em Machine Learning, é responsabilidade do desenvolvedor se questionar o quão assertivo é seu modelo, dessa forma, é possível usar algumas métricas para avaliar o modelo durante o período de treinamento. Existem vários tipos de métricas que podem ser usadas em um certo modelo, mas deve ficar claro que cada caso deve ser utilizado um determinado tipo de métrica, pois a escolha de uma métrica que não seja tão bem adequada para o modelo, afeta diretamente nos resultados e consequentemente na qualidade do modelo. Portanto, as “métricas de qualidade” objetivamente servem para avaliar a qualidade de um modelo.\n",
        "\n",
        "1.5.1 - Acurácia:\n",
        "\n",
        "A Acurácia é a média global do acerto do modelo ao classificar as classes, sendo amplamente considerada uma das métricas mais simples e importantes de se aplicar. Ela tem função de avaliar o percentual de acertos de um modelo, dessa forma, podemos dizer que ela é basicamente a relação entre o número de acertos e o total de entradas.\n",
        "- Fórmula Acurácia: (VN+VP) // (VP+FN+VN+FP).\n",
        "Caso após o cálculo o valor em decimal tenha sido baixo, podemos dizer que o modelo não é tão confiável em relação a sua precisão e acertos, mas caso contrário, podemos afirmar que é um modelo confiável para se adotar.\n",
        "\n",
        "1.5.2 - Precisão:\n",
        "\n",
        "A Precisão avalia a quantidade de verdadeiros positivos sobre a soma de todos os valores que forem também positivos, por exemplo, ele avalia os acertos de quando o modelo prevê e acerta quando um potencial comprador (assim classificado pelo próprio modelo) faz realmente a compra. Podemos realizar o cálculo de Acurácia e de Precisão no mesmo modelo para podermos ter uma noção ainda maior de sua confiabilidade, contudo, observe que valor da Acurácia pode ser diferente do valor que pode apresentar na Precisão, pois diferente da Acurácia, a Precisão distingue as classes para o cálculo no modelo.\n",
        "- Fórmula Precisão: P = VP/ (VP+FP).\n",
        "\n",
        "1.5.3 – Matriz Confusão:\n",
        "\n",
        "A Matriz Confusão indica a quantidade de ocorrências que o programa teve para cada uma das quatros “categorias” (VP, FP, FN, VN), dessa forma, é a matriz que traz a informação de todos erros e acertos do modelo ao prever as classes através de uma matriz quadrada.\n",
        "As categorias que são colocadas nesse tipo de matriz são:\n",
        "- Verdadeiro Positivo (VP): São as observações positivas da classe de interrese que o modelo consegue classificar corretamente.\n",
        "- Falso Positivo (FP): São as observações que o modelo previu como “positivas”, mas acabaram sendo negativas, ou seja, o modelo estimou incorretamente a classe que temos interesse.\n",
        "- Falso Negativo (FN): São as observações que o modelo identificou como negativas, mas que eram positivas, portanto, são as observações que o modelo estimou errado.\n",
        "- Verdadeiro Negativo (VN): São as observações que o modelo previu como negativas e realmente acabaram sendo negativas, ou seja, o modelo conseguiu os classificar corretamente.\n",
        "\n",
        "Podemos calcular o total de predições feitas em cada classe das seguintes maneiras:\n",
        "- Total de valores preditos como positivos: PREDP = VP + FP.\n",
        "- Total de valores preditos como negativos: PREDN = VN + FN.\n",
        "- Total de valores reais positivos: REALP = VP + FN.\n",
        "- Total de valores reais negativos: REALN = VN + FP.\n",
        "- Total de acertos do método: A = VP + VN.\n",
        " - Total de erros do método: E = FP + FN.\n",
        "\n",
        "\n",
        "\n",
        "\n",
        "#2.0 - Sobre o nosso Dataset\n",
        "O Dataset escolhido retrata uma empresa real chamada de AutoScout24, fundada no ano de 1998 em Munique na capital da Alemanha. A empresa com mais de 20 anos de mercado é uma das maiores empresa pan-europeias no setor automotivo online que já chegou a ter mais de 30 milhões de usuários ativos em seu site no mês, também possui mais de 43 mil parceiros de negócio e cerca de 500 funcionários na ativa. Mas, falando especificamente sobre o Dataset dessa empresa que foi escolhido, mostra os dados da sua loja virtual entre os anos de 2011 a 2021 com todas as especificações de seus automóveis (marca, modelo, ano e etc..) e o ano de venda de seus carros.  \n",
        "\n",
        "  2.1 – Porque escolhemos esse dataset\n",
        "\n",
        "O Dataset da AutoScout24 foi escolhido por possuir uma grande quantidade de dados sobre os carros vendidos pela empresa (tanto que é um Dataset com mais de 10 anos de dados acumulados), além de que também alguns dos integrantes do grupo possuem um vasto conhecimento sobre o assunto de automotivos que ajudou nas partes de pré-processamento dos dados (a mais demorada de ser realizada). E por fim, foi um Dataset que dentre aqueles que estávamos na dúvida de qual escolher, possuía uma certa “abertura” para que pudéssemos aplicar todo conhecimento de Análise Exploratória de dados que foi adquirido nas aulas.\n",
        "\n",
        "2.2 - Sobre o nosso problema\n",
        "\n",
        "\"Um vendedor de carros, herdou a loja que pertencia a seu pai, mas o filho não tinha experiência e nem conhecimento dos preços dos veículos. O que esse vendedor poderia fazer para que ele saiba a que valor os carros devem e deverão ser vendidos agora que ele é o dono?\".\n",
        "\n",
        "2.3 - Como a técnica de ML escolhida é aplicada no modelo\n",
        "\n",
        "Tendo esse problema em mente, nosso grupo pensou em utilizar técnicas de ML para que o vendedor consiga analisar as tebelas de preços antigas com as tabelas de preços atuais dos veículos, para que assim ele consiga saber os reais valores que devem e deverão ser cotados para os carros. Para tal tarefa, foi se pensado uma técnica de ML preditiva de Regressão Linear Múltipla."
      ]
    },
    {
      "cell_type": "markdown",
      "metadata": {
        "id": "UZdt855LCIbu"
      },
      "source": [
        "**3.1 - Importando as bibliotecas**"
      ]
    },
    {
      "cell_type": "code",
      "execution_count": null,
      "metadata": {
        "id": "bijUH0l0L01V"
      },
      "outputs": [],
      "source": [
        "import pandas as pd\n",
        "import sklearn.model_selection as ms\n",
        "import sklearn.linear_model as lm \n",
        "import matplotlib.pyplot as plt\n",
        "import io\n",
        "from sklearn.metrics import r2_score\n",
        "import numpy as np\n",
        "import multiprocessing as mp\n",
        "from sklearn.preprocessing import StandardScaler\n",
        "import seaborn as sns\n",
        "import plotly.express as px\n",
        "import plotly.graph_objects as go"
      ]
    },
    {
      "cell_type": "code",
      "execution_count": null,
      "metadata": {
        "id": "OI7J4ucq_CYf",
        "colab": {
          "base_uri": "https://localhost:8080/"
        },
        "outputId": "514ca169-4b92-49bf-9f23-bfad0415b372"
      },
      "outputs": [
        {
          "output_type": "stream",
          "name": "stdout",
          "text": [
            "Drive already mounted at /content/drive; to attempt to forcibly remount, call drive.mount(\"/content/drive\", force_remount=True).\n"
          ]
        }
      ],
      "source": [
        "from google.colab import drive\n",
        "drive.mount('/content/drive')"
      ]
    },
    {
      "cell_type": "markdown",
      "metadata": {
        "id": "4kIB0wT6wmmQ"
      },
      "source": [
        "**3.2** Importando Dataset**"
      ]
    },
    {
      "cell_type": "code",
      "execution_count": null,
      "metadata": {
        "id": "E5obsASqMOaP"
      },
      "outputs": [],
      "source": [
        "df = pd.read_csv('/content/drive/MyDrive/autoscout24-germany-dataset.csv')"
      ]
    },
    {
      "cell_type": "markdown",
      "metadata": {
        "id": "zBYGjVqYweqp"
      },
      "source": [
        "**3.3 limpando as colunas vazias. Primeiro uma contagem de quantos valores vazios temos no dataset**"
      ]
    },
    {
      "cell_type": "code",
      "execution_count": null,
      "metadata": {
        "id": "GRCuFDNHLODf",
        "colab": {
          "base_uri": "https://localhost:8080/"
        },
        "outputId": "7e29eeb9-2933-4191-ea6e-b9ad7d8f0b7c"
      },
      "outputs": [
        {
          "output_type": "execute_result",
          "data": {
            "text/plain": [
              "mileage        0\n",
              "make           0\n",
              "model        143\n",
              "fuel           0\n",
              "gear         182\n",
              "offerType      0\n",
              "price          0\n",
              "hp            29\n",
              "year           0\n",
              "dtype: int64"
            ]
          },
          "metadata": {},
          "execution_count": 28
        }
      ],
      "source": [
        "df1 = df\n",
        "df1.isnull().sum()"
      ]
    },
    {
      "cell_type": "markdown",
      "metadata": {
        "id": "qNO1oiEawY-N"
      },
      "source": [
        "**3.4 Limpando os valores vazios do dataset**"
      ]
    },
    {
      "cell_type": "code",
      "execution_count": null,
      "metadata": {
        "id": "rCjEMIcwMQ4f",
        "colab": {
          "base_uri": "https://localhost:8080/"
        },
        "outputId": "baf44c96-0472-47a1-f759-39436227f28a"
      },
      "outputs": [
        {
          "output_type": "stream",
          "name": "stdout",
          "text": [
            "Numero de linhas antes: (46405, 9)\n",
            "Numero de linhas depois: (46071, 9)\n",
            "\n",
            "\n",
            "\n",
            "        mileage        make   model               fuel    gear       offerType  \\\n",
            "0       235000         BMW     316             Diesel  Manual            Used   \n",
            "1        92800  Volkswagen    Golf           Gasoline  Manual            Used   \n",
            "2       149300        SEAT    Exeo           Gasoline  Manual            Used   \n",
            "3        96200     Renault  Megane           Gasoline  Manual            Used   \n",
            "4       156000     Peugeot     308           Gasoline  Manual            Used   \n",
            "...        ...         ...     ...                ...     ...             ...   \n",
            "46400       99        Fiat     500  Electric/Gasoline  Manual  Pre-registered   \n",
            "46401       99        Fiat     500  Electric/Gasoline  Manual  Pre-registered   \n",
            "46402       99        Fiat     500  Electric/Gasoline  Manual  Pre-registered   \n",
            "46403       99        Fiat     500  Electric/Gasoline  Manual  Pre-registered   \n",
            "46404       99        Fiat     500  Electric/Gasoline  Manual  Pre-registered   \n",
            "\n",
            "       price     hp  year  \n",
            "0       6800  116.0  2011  \n",
            "1       6877  122.0  2011  \n",
            "2       6900  160.0  2011  \n",
            "3       6950  110.0  2011  \n",
            "4       6950  156.0  2011  \n",
            "...      ...    ...   ...  \n",
            "46400  12990   71.0  2021  \n",
            "46401  12990   71.0  2021  \n",
            "46402  12990   71.0  2021  \n",
            "46403  12990   71.0  2021  \n",
            "46404  12990   71.0  2021  \n",
            "\n",
            "[46071 rows x 9 columns]\n"
          ]
        }
      ],
      "source": [
        "print(\"Numero de linhas antes:\", df1.shape)\n",
        "df1.dropna(subset=['model','gear','hp'], inplace=True)\n",
        "print(\"Numero de linhas depois:\", df1.shape)\n",
        "print(\"\\n\\n\\n\", df1)"
      ]
    },
    {
      "cell_type": "markdown",
      "metadata": {
        "id": "2bvlTADhwIb0"
      },
      "source": [
        "**3.5 Marcas mais vendidas de carros**"
      ]
    },
    {
      "cell_type": "code",
      "execution_count": null,
      "metadata": {
        "id": "gWzFA9aDCfLY",
        "colab": {
          "base_uri": "https://localhost:8080/"
        },
        "outputId": "72161153-93d9-4ed9-ee1a-21c92abdbe51"
      },
      "outputs": [
        {
          "output_type": "execute_result",
          "data": {
            "text/plain": [
              "Volkswagen    6907\n",
              "Opel          4789\n",
              "Ford          4410\n",
              "Skoda         2874\n",
              "Renault       2792\n",
              "              ... \n",
              "Isuzu            1\n",
              "Others           1\n",
              "Zhidou           1\n",
              "Brilliance       1\n",
              "Alpine           1\n",
              "Name: make, Length: 71, dtype: int64"
            ]
          },
          "metadata": {},
          "execution_count": 30
        }
      ],
      "source": [
        "df1['make'].value_counts()"
      ]
    },
    {
      "cell_type": "markdown",
      "metadata": {
        "id": "VmAoQYEwwAHv"
      },
      "source": [
        " **3.6 Gráfico de dispersão por ano x preço com divisão entre tipos de combustível**"
      ]
    },
    {
      "cell_type": "code",
      "execution_count": null,
      "metadata": {
        "id": "zTr0KCSEv0Vu",
        "colab": {
          "base_uri": "https://localhost:8080/",
          "height": 279
        },
        "outputId": "ae4643a2-2ac5-4895-ce84-33166d018897"
      },
      "outputs": [
        {
          "output_type": "display_data",
          "data": {
            "text/plain": [
              "<Figure size 432x288 with 1 Axes>"
            ],
            "image/png": "[encoded data removed]"
          },
          "metadata": {
            "needs_background": "light"
          }
        }
      ],
      "source": [
        "fig = sns.scatterplot(data=df, x='price', y='year', hue='fuel')\n",
        "plt.show(fig)"
      ]
    },
    {
      "cell_type": "markdown",
      "metadata": {
        "id": "nbMmm8RAW3No"
      },
      "source": [
        "**3.7 Gráfico de progressão de ano por valor**"
      ]
    },
    {
      "cell_type": "code",
      "source": [
        "fig = sns.scatterplot(data=df1, x='year', y='price')\n",
        "plt.show(fig)"
      ],
      "metadata": {
        "id": "g9U0Z5TZncxU",
        "colab": {
          "base_uri": "https://localhost:8080/",
          "height": 290
        },
        "outputId": "b5802b5b-dec8-4322-acc0-a7578b3fe427"
      },
      "execution_count": null,
      "outputs": [
        {
          "output_type": "display_data",
          "data": {
            "text/plain": [
              "<Figure size 432x288 with 1 Axes>"
            ],
            "image/png": "[encoded data removed]"
          },
          "metadata": {
            "needs_background": "light"
          }
        }
      ]
    },
    {
      "cell_type": "markdown",
      "source": [
        "**3.8 Plotando gráfico para entender a evolução de preços por ano**"
      ],
      "metadata": {
        "id": "f488-azz1I2T"
      }
    },
    {
      "cell_type": "code",
      "execution_count": null,
      "metadata": {
        "id": "es4TKuzsURmQ",
        "colab": {
          "base_uri": "https://localhost:8080/",
          "height": 296
        },
        "outputId": "9433110a-1b49-4b83-f7f7-25ed32add493"
      },
      "outputs": [
        {
          "output_type": "execute_result",
          "data": {
            "text/plain": [
              "<matplotlib.axes._subplots.AxesSubplot at 0x7fba6d21a340>"
            ]
          },
          "metadata": {},
          "execution_count": 33
        },
        {
          "output_type": "display_data",
          "data": {
            "text/plain": [
              "<Figure size 432x288 with 1 Axes>"
            ],
            "image/png": "[encoded data removed]"
          },
          "metadata": {
            "needs_background": "light"
          }
        }
      ],
      "source": [
        "sns.lineplot(x=\"year\", y=\"price\",data=df1)"
      ]
    },
    {
      "cell_type": "markdown",
      "source": [
        "**3.9 Modelos mais vendidos de carros**"
      ],
      "metadata": {
        "id": "wQlBX_4O1E18"
      }
    },
    {
      "cell_type": "code",
      "execution_count": null,
      "metadata": {
        "id": "a-QLWCsWs4Ik",
        "colab": {
          "base_uri": "https://localhost:8080/"
        },
        "outputId": "16434626-1150-4834-fa51-a4c3a179558f"
      },
      "outputs": [
        {
          "output_type": "execute_result",
          "data": {
            "text/plain": [
              "Golf                         1489\n",
              "Corsa                        1485\n",
              "Fiesta                       1273\n",
              "Astra                        1190\n",
              "Focus                         985\n",
              "                             ... \n",
              "John Cooper Works Clubman       1\n",
              "323                             1\n",
              "Rodius                          1\n",
              "Journey                         1\n",
              "NV250                           1\n",
              "Name: model, Length: 835, dtype: int64"
            ]
          },
          "metadata": {},
          "execution_count": 34
        }
      ],
      "source": [
        "df1['model'].value_counts()"
      ]
    },
    {
      "cell_type": "markdown",
      "source": [
        "**3.10 Plotando gráfico de distribuição para entender qual é a melhor forma de** \n",
        "\n",
        "**padronização dos dados.**"
      ],
      "metadata": {
        "id": "1d9GGqh702q-"
      }
    },
    {
      "cell_type": "code",
      "execution_count": null,
      "metadata": {
        "id": "NwiIipIuKNDs",
        "colab": {
          "base_uri": "https://localhost:8080/",
          "height": 345
        },
        "outputId": "ede569a1-fcc2-442e-dad8-5e9f929c013e"
      },
      "outputs": [
        {
          "output_type": "stream",
          "name": "stderr",
          "text": [
            "/usr/local/lib/python3.8/dist-packages/seaborn/distributions.py:2619: FutureWarning: `distplot` is a deprecated function and will be removed in a future version. Please adapt your code to use either `displot` (a figure-level function with similar flexibility) or `histplot` (an axes-level function for histograms).\n",
            "  warnings.warn(msg, FutureWarning)\n"
          ]
        },
        {
          "output_type": "display_data",
          "data": {
            "text/plain": [
              "<Figure size 432x288 with 1 Axes>"
            ],
            "image/png": "[encoded data removed]"
          },
          "metadata": {
            "needs_background": "light"
          }
        }
      ],
      "source": [
        "ax = sns.distplot(df.mileage, color='g')"
      ]
    },
    {
      "cell_type": "markdown",
      "source": [
        "**3.11 Analisando os nossos dados de PREÇO em um gráfico de dispersão**"
      ],
      "metadata": {
        "id": "hiuvEkem0o05"
      }
    },
    {
      "cell_type": "code",
      "execution_count": null,
      "metadata": {
        "id": "L2x-Jo-mKobV",
        "colab": {
          "base_uri": "https://localhost:8080/",
          "height": 345
        },
        "outputId": "204b8365-7d68-4292-a978-2d54ff132935"
      },
      "outputs": [
        {
          "output_type": "stream",
          "name": "stderr",
          "text": [
            "/usr/local/lib/python3.8/dist-packages/seaborn/distributions.py:2619: FutureWarning: `distplot` is a deprecated function and will be removed in a future version. Please adapt your code to use either `displot` (a figure-level function with similar flexibility) or `histplot` (an axes-level function for histograms).\n",
            "  warnings.warn(msg, FutureWarning)\n"
          ]
        },
        {
          "output_type": "display_data",
          "data": {
            "text/plain": [
              "<Figure size 432x288 with 1 Axes>"
            ],
            "image/png": "[encoded data removed]"
          },
          "metadata": {
            "needs_background": "light"
          }
        }
      ],
      "source": [
        "ax = sns.distplot(df.price, color='y')"
      ]
    },
    {
      "cell_type": "markdown",
      "source": [
        "**3.12 Analisando os nossos dados de POTÊNCIA EM CAVALOS**\n",
        "\n",
        "**em um gráfico de dispersão**"
      ],
      "metadata": {
        "id": "I2oBNuBt0aVW"
      }
    },
    {
      "cell_type": "code",
      "execution_count": null,
      "metadata": {
        "id": "z6iyuLb9LAfX",
        "colab": {
          "base_uri": "https://localhost:8080/",
          "height": 334
        },
        "outputId": "1ed2e78c-aceb-4428-9399-254685aeabe5"
      },
      "outputs": [
        {
          "output_type": "stream",
          "name": "stderr",
          "text": [
            "/usr/local/lib/python3.8/dist-packages/seaborn/distributions.py:2619: FutureWarning: `distplot` is a deprecated function and will be removed in a future version. Please adapt your code to use either `displot` (a figure-level function with similar flexibility) or `histplot` (an axes-level function for histograms).\n",
            "  warnings.warn(msg, FutureWarning)\n"
          ]
        },
        {
          "output_type": "display_data",
          "data": {
            "text/plain": [
              "<Figure size 432x288 with 1 Axes>"
            ],
            "image/png": "[encoded data removed]"
          },
          "metadata": {
            "needs_background": "light"
          }
        }
      ],
      "source": [
        "ax = sns.distplot(df.hp, color='r')"
      ]
    },
    {
      "cell_type": "markdown",
      "source": [
        "**3.13 Analisando os nossos dados de anos em um gráfico de dispersão**"
      ],
      "metadata": {
        "id": "v0noik3b0STx"
      }
    },
    {
      "cell_type": "code",
      "execution_count": null,
      "metadata": {
        "id": "-8fvNdQeLIIO",
        "colab": {
          "base_uri": "https://localhost:8080/",
          "height": 334
        },
        "outputId": "f284dcf0-9a78-450a-bfdf-0a05ec1e8613"
      },
      "outputs": [
        {
          "output_type": "stream",
          "name": "stderr",
          "text": [
            "/usr/local/lib/python3.8/dist-packages/seaborn/distributions.py:2619: FutureWarning: `distplot` is a deprecated function and will be removed in a future version. Please adapt your code to use either `displot` (a figure-level function with similar flexibility) or `histplot` (an axes-level function for histograms).\n",
            "  warnings.warn(msg, FutureWarning)\n"
          ]
        },
        {
          "output_type": "display_data",
          "data": {
            "text/plain": [
              "<Figure size 432x288 with 1 Axes>"
            ],
            "image/png": "[encoded data removed]"
          },
          "metadata": {
            "needs_background": "light"
          }
        }
      ],
      "source": [
        "ax = sns.distplot(df.year, color='g')"
      ]
    },
    {
      "cell_type": "markdown",
      "source": [
        "**3.14 Carros vendidos por menos de 5 mil.**"
      ],
      "metadata": {
        "id": "Rg0Tczis0Kc-"
      }
    },
    {
      "cell_type": "code",
      "execution_count": null,
      "metadata": {
        "id": "e4ve4fKFduDB",
        "colab": {
          "base_uri": "https://localhost:8080/",
          "height": 424
        },
        "outputId": "afee9e1a-7f76-4ce7-ed25-41bcd0381878"
      },
      "outputs": [
        {
          "output_type": "execute_result",
          "data": {
            "text/plain": [
              "       mileage        make       model      fuel       gear offerType  price  \\\n",
              "364      62302       Dacia     Sandero  Gasoline     Manual      Used   4700   \n",
              "406     135000       smart      forTwo    Diesel  Automatic      Used   3940   \n",
              "407     234730        Opel       Astra    Diesel  Automatic      Used   3949   \n",
              "408      42571     Hyundai         i10  Gasoline     Manual      Used   3950   \n",
              "409     368777  Volkswagen       Caddy       CNG     Manual      Used   3950   \n",
              "...        ...         ...         ...       ...        ...       ...    ...   \n",
              "40405   113121        Fiat       Punto  Gasoline     Manual      Used   4500   \n",
              "40494    47000     Renault       Twizy  Electric  Automatic      Used   4700   \n",
              "40855   116720  Mitsubishi  Space Star  Gasoline     Manual      Used   4500   \n",
              "41301     9304     Renault       Twizy  Electric  Automatic      Used   4990   \n",
              "41756   123893     Renault      Twingo  Gasoline     Manual      Used   2300   \n",
              "\n",
              "          hp  year  \n",
              "364     73.0  2018  \n",
              "406     54.0  2011  \n",
              "407    160.0  2011  \n",
              "408     69.0  2011  \n",
              "409    109.0  2011  \n",
              "...      ...   ...  \n",
              "40405   69.0  2016  \n",
              "40494   11.0  2016  \n",
              "40855   71.0  2017  \n",
              "41301   11.0  2017  \n",
              "41756   69.0  2017  \n",
              "\n",
              "[3500 rows x 9 columns]"
            ],
            "text/html": [
              "\n",
              "  <div id=\"df-9f37956f-ffe9-42ae-9d6a-bd6cb71df9a0\">\n",
              "    <div class=\"colab-df-container\">\n",
              "      <div>\n",
              "<style scoped>\n",
              "    .dataframe tbody tr th:only-of-type {\n",
              "        vertical-align: middle;\n",
              "    }\n",
              "\n",
              "    .dataframe tbody tr th {\n",
              "        vertical-align: top;\n",
              "    }\n",
              "\n",
              "    .dataframe thead th {\n",
              "        text-align: right;\n",
              "    }\n",
              "</style>\n",
              "<table border=\"1\" class=\"dataframe\">\n",
              "  <thead>\n",
              "    <tr style=\"text-align: right;\">\n",
              "      <th></th>\n",
              "      <th>mileage</th>\n",
              "      <th>make</th>\n",
              "      <th>model</th>\n",
              "      <th>fuel</th>\n",
              "      <th>gear</th>\n",
              "      <th>offerType</th>\n",
              "      <th>price</th>\n",
              "      <th>hp</th>\n",
              "      <th>year</th>\n",
              "    </tr>\n",
              "  </thead>\n",
              "  <tbody>\n",
              "    <tr>\n",
              "      <th>364</th>\n",
              "      <td>62302</td>\n",
              "      <td>Dacia</td>\n",
              "      <td>Sandero</td>\n",
              "      <td>Gasoline</td>\n",
              "      <td>Manual</td>\n",
              "      <td>Used</td>\n",
              "      <td>4700</td>\n",
              "      <td>73.0</td>\n",
              "      <td>2018</td>\n",
              "    </tr>\n",
              "    <tr>\n",
              "      <th>406</th>\n",
              "      <td>135000</td>\n",
              "      <td>smart</td>\n",
              "      <td>forTwo</td>\n",
              "      <td>Diesel</td>\n",
              "      <td>Automatic</td>\n",
              "      <td>Used</td>\n",
              "      <td>3940</td>\n",
              "      <td>54.0</td>\n",
              "      <td>2011</td>\n",
              "    </tr>\n",
              "    <tr>\n",
              "      <th>407</th>\n",
              "      <td>234730</td>\n",
              "      <td>Opel</td>\n",
              "      <td>Astra</td>\n",
              "      <td>Diesel</td>\n",
              "      <td>Automatic</td>\n",
              "      <td>Used</td>\n",
              "      <td>3949</td>\n",
              "      <td>160.0</td>\n",
              "      <td>2011</td>\n",
              "    </tr>\n",
              "    <tr>\n",
              "      <th>408</th>\n",
              "      <td>42571</td>\n",
              "      <td>Hyundai</td>\n",
              "      <td>i10</td>\n",
              "      <td>Gasoline</td>\n",
              "      <td>Manual</td>\n",
              "      <td>Used</td>\n",
              "      <td>3950</td>\n",
              "      <td>69.0</td>\n",
              "      <td>2011</td>\n",
              "    </tr>\n",
              "    <tr>\n",
              "      <th>409</th>\n",
              "      <td>368777</td>\n",
              "      <td>Volkswagen</td>\n",
              "      <td>Caddy</td>\n",
              "      <td>CNG</td>\n",
              "      <td>Manual</td>\n",
              "      <td>Used</td>\n",
              "      <td>3950</td>\n",
              "      <td>109.0</td>\n",
              "      <td>2011</td>\n",
              "    </tr>\n",
              "    <tr>\n",
              "      <th>...</th>\n",
              "      <td>...</td>\n",
              "      <td>...</td>\n",
              "      <td>...</td>\n",
              "      <td>...</td>\n",
              "      <td>...</td>\n",
              "      <td>...</td>\n",
              "      <td>...</td>\n",
              "      <td>...</td>\n",
              "      <td>...</td>\n",
              "    </tr>\n",
              "    <tr>\n",
              "      <th>40405</th>\n",
              "      <td>113121</td>\n",
              "      <td>Fiat</td>\n",
              "      <td>Punto</td>\n",
              "      <td>Gasoline</td>\n",
              "      <td>Manual</td>\n",
              "      <td>Used</td>\n",
              "      <td>4500</td>\n",
              "      <td>69.0</td>\n",
              "      <td>2016</td>\n",
              "    </tr>\n",
              "    <tr>\n",
              "      <th>40494</th>\n",
              "      <td>47000</td>\n",
              "      <td>Renault</td>\n",
              "      <td>Twizy</td>\n",
              "      <td>Electric</td>\n",
              "      <td>Automatic</td>\n",
              "      <td>Used</td>\n",
              "      <td>4700</td>\n",
              "      <td>11.0</td>\n",
              "      <td>2016</td>\n",
              "    </tr>\n",
              "    <tr>\n",
              "      <th>40855</th>\n",
              "      <td>116720</td>\n",
              "      <td>Mitsubishi</td>\n",
              "      <td>Space Star</td>\n",
              "      <td>Gasoline</td>\n",
              "      <td>Manual</td>\n",
              "      <td>Used</td>\n",
              "      <td>4500</td>\n",
              "      <td>71.0</td>\n",
              "      <td>2017</td>\n",
              "    </tr>\n",
              "    <tr>\n",
              "      <th>41301</th>\n",
              "      <td>9304</td>\n",
              "      <td>Renault</td>\n",
              "      <td>Twizy</td>\n",
              "      <td>Electric</td>\n",
              "      <td>Automatic</td>\n",
              "      <td>Used</td>\n",
              "      <td>4990</td>\n",
              "      <td>11.0</td>\n",
              "      <td>2017</td>\n",
              "    </tr>\n",
              "    <tr>\n",
              "      <th>41756</th>\n",
              "      <td>123893</td>\n",
              "      <td>Renault</td>\n",
              "      <td>Twingo</td>\n",
              "      <td>Gasoline</td>\n",
              "      <td>Manual</td>\n",
              "      <td>Used</td>\n",
              "      <td>2300</td>\n",
              "      <td>69.0</td>\n",
              "      <td>2017</td>\n",
              "    </tr>\n",
              "  </tbody>\n",
              "</table>\n",
              "<p>3500 rows × 9 columns</p>\n",
              "</div>\n",
              "      <button class=\"colab-df-convert\" onclick=\"convertToInteractive('df-9f37956f-ffe9-42ae-9d6a-bd6cb71df9a0')\"\n",
              "              title=\"Convert this dataframe to an interactive table.\"\n",
              "              style=\"display:none;\">\n",
              "        \n",
              "  <svg xmlns=\"http://www.w3.org/2000/svg\" height=\"24px\"viewBox=\"0 0 24 24\"\n",
              "       width=\"24px\">\n",
              "    <path d=\"M0 0h24v24H0V0z\" fill=\"none\"/>\n",
              "    <path d=\"M18.56 5.44l.94 2.06.94-2.06 2.06-.94-2.06-.94-.94-2.06-.94 2.06-2.06.94zm-11 1L8.5 8.5l.94-2.06 2.06-.94-2.06-.94L8.5 2.5l-.94 2.06-2.06.94zm10 10l.94 2.06.94-2.06 2.06-.94-2.06-.94-.94-2.06-.94 2.06-2.06.94z\"/><path d=\"M17.41 7.96l-1.37-1.37c-.4-.4-.92-.59-1.43-.59-.52 0-1.04.2-1.43.59L10.3 9.45l-7.72 7.72c-.78.78-.78 2.05 0 2.83L4 21.41c.39.39.9.59 1.41.59.51 0 1.02-.2 1.41-.59l7.78-7.78 2.81-2.81c.8-.78.8-2.07 0-2.86zM5.41 20L4 18.59l7.72-7.72 1.47 1.35L5.41 20z\"/>\n",
              "  </svg>\n",
              "      </button>\n",
              "      \n",
              "  <style>\n",
              "    .colab-df-container {\n",
              "      display:flex;\n",
              "      flex-wrap:wrap;\n",
              "      gap: 12px;\n",
              "    }\n",
              "\n",
              "    .colab-df-convert {\n",
              "      background-color: #E8F0FE;\n",
              "      border: none;\n",
              "      border-radius: 50%;\n",
              "      cursor: pointer;\n",
              "      display: none;\n",
              "      fill: #1967D2;\n",
              "      height: 32px;\n",
              "      padding: 0 0 0 0;\n",
              "      width: 32px;\n",
              "    }\n",
              "\n",
              "    .colab-df-convert:hover {\n",
              "      background-color: #E2EBFA;\n",
              "      box-shadow: 0px 1px 2px rgba(60, 64, 67, 0.3), 0px 1px 3px 1px rgba(60, 64, 67, 0.15);\n",
              "      fill: #174EA6;\n",
              "    }\n",
              "\n",
              "    [theme=dark] .colab-df-convert {\n",
              "      background-color: #3B4455;\n",
              "      fill: #D2E3FC;\n",
              "    }\n",
              "\n",
              "    [theme=dark] .colab-df-convert:hover {\n",
              "      background-color: #434B5C;\n",
              "      box-shadow: 0px 1px 3px 1px rgba(0, 0, 0, 0.15);\n",
              "      filter: drop-shadow(0px 1px 2px rgba(0, 0, 0, 0.3));\n",
              "      fill: #FFFFFF;\n",
              "    }\n",
              "  </style>\n",
              "\n",
              "      <script>\n",
              "        const buttonEl =\n",
              "          document.querySelector('#df-9f37956f-ffe9-42ae-9d6a-bd6cb71df9a0 button.colab-df-convert');\n",
              "        buttonEl.style.display =\n",
              "          google.colab.kernel.accessAllowed ? 'block' : 'none';\n",
              "\n",
              "        async function convertToInteractive(key) {\n",
              "          const element = document.querySelector('#df-9f37956f-ffe9-42ae-9d6a-bd6cb71df9a0');\n",
              "          const dataTable =\n",
              "            await google.colab.kernel.invokeFunction('convertToInteractive',\n",
              "                                                     [key], {});\n",
              "          if (!dataTable) return;\n",
              "\n",
              "          const docLinkHtml = 'Like what you see? Visit the ' +\n",
              "            '<a target=\"_blank\" href=https://colab.research.google.com/notebooks/data_table.ipynb>data table notebook</a>'\n",
              "            + ' to learn more about interactive tables.';\n",
              "          element.innerHTML = '';\n",
              "          dataTable['output_type'] = 'display_data';\n",
              "          await google.colab.output.renderOutput(dataTable, element);\n",
              "          const docLink = document.createElement('div');\n",
              "          docLink.innerHTML = docLinkHtml;\n",
              "          element.appendChild(docLink);\n",
              "        }\n",
              "      </script>\n",
              "    </div>\n",
              "  </div>\n",
              "  "
            ]
          },
          "metadata": {},
          "execution_count": 39
        }
      ],
      "source": [
        "df1[(df1['price'] < 5000)]"
      ]
    },
    {
      "cell_type": "markdown",
      "source": [
        "**3.15 Colocando as principais marcas do preço em um histograma**"
      ],
      "metadata": {
        "id": "UC31L00nz69k"
      }
    },
    {
      "cell_type": "code",
      "execution_count": null,
      "metadata": {
        "id": "zQeSb9f9hqUv",
        "colab": {
          "base_uri": "https://localhost:8080/",
          "height": 369
        },
        "outputId": "dae66346-7ba7-45c1-bee3-8def9609280d"
      },
      "outputs": [
        {
          "output_type": "display_data",
          "data": {
            "text/plain": [
              "<Figure size 360x360 with 1 Axes>"
            ],
            "image/png": "[encoded data removed]"
          },
          "metadata": {
            "needs_background": "light"
          }
        }
      ],
      "source": [
        "g1=df1[df1['make'].isin(['Volkswagen','Opel', 'Ford','Skoda','Renault'])]\n",
        "fig = sns.displot(data=g1, x='make',y='price')"
      ]
    },
    {
      "cell_type": "markdown",
      "source": [
        "**3.16 Convertendo colunas do tipo \"object\" para \"category\"}**"
      ],
      "metadata": {
        "id": "BbW5t33bz0FW"
      }
    },
    {
      "cell_type": "code",
      "execution_count": null,
      "metadata": {
        "id": "QasEDX7jSJRv",
        "colab": {
          "base_uri": "https://localhost:8080/"
        },
        "outputId": "d6f024da-4367-4718-a57c-75577f31d480"
      },
      "outputs": [
        {
          "output_type": "stream",
          "name": "stdout",
          "text": [
            "<class 'pandas.core.frame.DataFrame'>\n",
            "Int64Index: 46071 entries, 0 to 46404\n",
            "Data columns (total 9 columns):\n",
            " #   Column     Non-Null Count  Dtype   \n",
            "---  ------     --------------  -----   \n",
            " 0   mileage    46071 non-null  int64   \n",
            " 1   make       46071 non-null  category\n",
            " 2   model      46071 non-null  category\n",
            " 3   fuel       46071 non-null  category\n",
            " 4   gear       46071 non-null  category\n",
            " 5   offerType  46071 non-null  category\n",
            " 6   price      46071 non-null  int64   \n",
            " 7   hp         46071 non-null  float64 \n",
            " 8   year       46071 non-null  int64   \n",
            "dtypes: category(5), float64(1), int64(3)\n",
            "memory usage: 3.1 MB\n"
          ]
        }
      ],
      "source": [
        "df['gear'] = df['gear'].astype('category')\n",
        "df['make'] = df['make'].astype('category')\n",
        "df['model'] = df['model'].astype('category')\n",
        "df['fuel'] = df['fuel'].astype('category')\n",
        "df['offerType'] = df['offerType'].astype('category')\n",
        "df.info()"
      ]
    },
    {
      "cell_type": "markdown",
      "source": [
        "**3.17 Transformando nossos dados categóricos em numéricos.**"
      ],
      "metadata": {
        "id": "gK5et8bAzlTo"
      }
    },
    {
      "cell_type": "code",
      "execution_count": null,
      "metadata": {
        "id": "MRwr7-0TViNS"
      },
      "outputs": [],
      "source": [
        "dfdum = pd.get_dummies(df)\n",
        "dfdum = dfdum.drop('price', axis=1, inplace=False)"
      ]
    },
    {
      "cell_type": "markdown",
      "source": [
        "**3.18 Criando X e y para nosso modelo.**\n",
        "\n",
        "**Separando o preço do Dataframe para a variável dependente (y)** "
      ],
      "metadata": {
        "id": "Ahz4y5r_zSqx"
      }
    },
    {
      "cell_type": "code",
      "execution_count": null,
      "metadata": {
        "id": "OS3dqoXPgAb9"
      },
      "outputs": [],
      "source": [
        "y = df['price']\n",
        "X = dfdum"
      ]
    },
    {
      "cell_type": "markdown",
      "source": [
        "**3.19 Separando bases de treino e teste.**"
      ],
      "metadata": {
        "id": "-4smQtMvzPK0"
      }
    },
    {
      "cell_type": "code",
      "execution_count": null,
      "metadata": {
        "id": "7JJ0utAicEdt"
      },
      "outputs": [],
      "source": [
        "X_train, X_test, y_train, y_test = ms.train_test_split(X, y, test_size=0.30, random_state=25)"
      ]
    },
    {
      "cell_type": "markdown",
      "source": [
        "**3.20 Treinando nosso modelo.**"
      ],
      "metadata": {
        "id": "IeCx3RLszLcA"
      }
    },
    {
      "cell_type": "code",
      "execution_count": null,
      "metadata": {
        "colab": {
          "base_uri": "https://localhost:8080/"
        },
        "id": "fP_RVmkwNMlP",
        "outputId": "99209b2c-20d0-4c3a-e107-ce329fc117ca"
      },
      "outputs": [
        {
          "output_type": "execute_result",
          "data": {
            "text/plain": [
              "LinearRegression()"
            ]
          },
          "metadata": {},
          "execution_count": 45
        }
      ],
      "source": [
        "regressor = lm.LinearRegression()\n",
        "regressor.fit(X_train, y_train)"
      ]
    },
    {
      "cell_type": "markdown",
      "source": [
        "**3.21 Testando nosso modelo**"
      ],
      "metadata": {
        "id": "xGTlQJBWzBPu"
      }
    },
    {
      "cell_type": "code",
      "execution_count": null,
      "metadata": {
        "colab": {
          "base_uri": "https://localhost:8080/",
          "height": 424
        },
        "id": "jiUlDPeWTxDD",
        "outputId": "e3dc5288-78ac-4054-cefa-e01fbc39e8c2"
      },
      "outputs": [
        {
          "output_type": "execute_result",
          "data": {
            "text/plain": [
              "                  0\n",
              "0       5949.390498\n",
              "1      12406.709816\n",
              "2      42207.577998\n",
              "3       7165.018262\n",
              "4      18355.404976\n",
              "...             ...\n",
              "13817   3960.017651\n",
              "13818   4083.605862\n",
              "13819   3138.136363\n",
              "13820  18165.490564\n",
              "13821  11435.445975\n",
              "\n",
              "[13822 rows x 1 columns]"
            ],
            "text/html": [
              "\n",
              "  <div id=\"df-81d871c9-4bed-4ca9-a45f-53df32eb57ed\">\n",
              "    <div class=\"colab-df-container\">\n",
              "      <div>\n",
              "<style scoped>\n",
              "    .dataframe tbody tr th:only-of-type {\n",
              "        vertical-align: middle;\n",
              "    }\n",
              "\n",
              "    .dataframe tbody tr th {\n",
              "        vertical-align: top;\n",
              "    }\n",
              "\n",
              "    .dataframe thead th {\n",
              "        text-align: right;\n",
              "    }\n",
              "</style>\n",
              "<table border=\"1\" class=\"dataframe\">\n",
              "  <thead>\n",
              "    <tr style=\"text-align: right;\">\n",
              "      <th></th>\n",
              "      <th>0</th>\n",
              "    </tr>\n",
              "  </thead>\n",
              "  <tbody>\n",
              "    <tr>\n",
              "      <th>0</th>\n",
              "      <td>5949.390498</td>\n",
              "    </tr>\n",
              "    <tr>\n",
              "      <th>1</th>\n",
              "      <td>12406.709816</td>\n",
              "    </tr>\n",
              "    <tr>\n",
              "      <th>2</th>\n",
              "      <td>42207.577998</td>\n",
              "    </tr>\n",
              "    <tr>\n",
              "      <th>3</th>\n",
              "      <td>7165.018262</td>\n",
              "    </tr>\n",
              "    <tr>\n",
              "      <th>4</th>\n",
              "      <td>18355.404976</td>\n",
              "    </tr>\n",
              "    <tr>\n",
              "      <th>...</th>\n",
              "      <td>...</td>\n",
              "    </tr>\n",
              "    <tr>\n",
              "      <th>13817</th>\n",
              "      <td>3960.017651</td>\n",
              "    </tr>\n",
              "    <tr>\n",
              "      <th>13818</th>\n",
              "      <td>4083.605862</td>\n",
              "    </tr>\n",
              "    <tr>\n",
              "      <th>13819</th>\n",
              "      <td>3138.136363</td>\n",
              "    </tr>\n",
              "    <tr>\n",
              "      <th>13820</th>\n",
              "      <td>18165.490564</td>\n",
              "    </tr>\n",
              "    <tr>\n",
              "      <th>13821</th>\n",
              "      <td>11435.445975</td>\n",
              "    </tr>\n",
              "  </tbody>\n",
              "</table>\n",
              "<p>13822 rows × 1 columns</p>\n",
              "</div>\n",
              "      <button class=\"colab-df-convert\" onclick=\"convertToInteractive('df-81d871c9-4bed-4ca9-a45f-53df32eb57ed')\"\n",
              "              title=\"Convert this dataframe to an interactive table.\"\n",
              "              style=\"display:none;\">\n",
              "        \n",
              "  <svg xmlns=\"http://www.w3.org/2000/svg\" height=\"24px\"viewBox=\"0 0 24 24\"\n",
              "       width=\"24px\">\n",
              "    <path d=\"M0 0h24v24H0V0z\" fill=\"none\"/>\n",
              "    <path d=\"M18.56 5.44l.94 2.06.94-2.06 2.06-.94-2.06-.94-.94-2.06-.94 2.06-2.06.94zm-11 1L8.5 8.5l.94-2.06 2.06-.94-2.06-.94L8.5 2.5l-.94 2.06-2.06.94zm10 10l.94 2.06.94-2.06 2.06-.94-2.06-.94-.94-2.06-.94 2.06-2.06.94z\"/><path d=\"M17.41 7.96l-1.37-1.37c-.4-.4-.92-.59-1.43-.59-.52 0-1.04.2-1.43.59L10.3 9.45l-7.72 7.72c-.78.78-.78 2.05 0 2.83L4 21.41c.39.39.9.59 1.41.59.51 0 1.02-.2 1.41-.59l7.78-7.78 2.81-2.81c.8-.78.8-2.07 0-2.86zM5.41 20L4 18.59l7.72-7.72 1.47 1.35L5.41 20z\"/>\n",
              "  </svg>\n",
              "      </button>\n",
              "      \n",
              "  <style>\n",
              "    .colab-df-container {\n",
              "      display:flex;\n",
              "      flex-wrap:wrap;\n",
              "      gap: 12px;\n",
              "    }\n",
              "\n",
              "    .colab-df-convert {\n",
              "      background-color: #E8F0FE;\n",
              "      border: none;\n",
              "      border-radius: 50%;\n",
              "      cursor: pointer;\n",
              "      display: none;\n",
              "      fill: #1967D2;\n",
              "      height: 32px;\n",
              "      padding: 0 0 0 0;\n",
              "      width: 32px;\n",
              "    }\n",
              "\n",
              "    .colab-df-convert:hover {\n",
              "      background-color: #E2EBFA;\n",
              "      box-shadow: 0px 1px 2px rgba(60, 64, 67, 0.3), 0px 1px 3px 1px rgba(60, 64, 67, 0.15);\n",
              "      fill: #174EA6;\n",
              "    }\n",
              "\n",
              "    [theme=dark] .colab-df-convert {\n",
              "      background-color: #3B4455;\n",
              "      fill: #D2E3FC;\n",
              "    }\n",
              "\n",
              "    [theme=dark] .colab-df-convert:hover {\n",
              "      background-color: #434B5C;\n",
              "      box-shadow: 0px 1px 3px 1px rgba(0, 0, 0, 0.15);\n",
              "      filter: drop-shadow(0px 1px 2px rgba(0, 0, 0, 0.3));\n",
              "      fill: #FFFFFF;\n",
              "    }\n",
              "  </style>\n",
              "\n",
              "      <script>\n",
              "        const buttonEl =\n",
              "          document.querySelector('#df-81d871c9-4bed-4ca9-a45f-53df32eb57ed button.colab-df-convert');\n",
              "        buttonEl.style.display =\n",
              "          google.colab.kernel.accessAllowed ? 'block' : 'none';\n",
              "\n",
              "        async function convertToInteractive(key) {\n",
              "          const element = document.querySelector('#df-81d871c9-4bed-4ca9-a45f-53df32eb57ed');\n",
              "          const dataTable =\n",
              "            await google.colab.kernel.invokeFunction('convertToInteractive',\n",
              "                                                     [key], {});\n",
              "          if (!dataTable) return;\n",
              "\n",
              "          const docLinkHtml = 'Like what you see? Visit the ' +\n",
              "            '<a target=\"_blank\" href=https://colab.research.google.com/notebooks/data_table.ipynb>data table notebook</a>'\n",
              "            + ' to learn more about interactive tables.';\n",
              "          element.innerHTML = '';\n",
              "          dataTable['output_type'] = 'display_data';\n",
              "          await google.colab.output.renderOutput(dataTable, element);\n",
              "          const docLink = document.createElement('div');\n",
              "          docLink.innerHTML = docLinkHtml;\n",
              "          element.appendChild(docLink);\n",
              "        }\n",
              "      </script>\n",
              "    </div>\n",
              "  </div>\n",
              "  "
            ]
          },
          "metadata": {},
          "execution_count": 46
        }
      ],
      "source": [
        "\n",
        "y_pred = regressor.predict(X_test)\n",
        "\n",
        "result = pd.DataFrame(y_pred)\n",
        "result"
      ]
    },
    {
      "cell_type": "markdown",
      "source": [
        "**3.22 Verificando o score quadratico do nosso modelo**"
      ],
      "metadata": {
        "id": "w3uIY8n952RA"
      }
    },
    {
      "cell_type": "code",
      "execution_count": null,
      "metadata": {
        "colab": {
          "base_uri": "https://localhost:8080/"
        },
        "id": "F5NMxrdhcxwa",
        "outputId": "3eae33ae-9c50-4d88-efa8-ba6197b46aae"
      },
      "outputs": [
        {
          "output_type": "execute_result",
          "data": {
            "text/plain": [
              "0.7494508707160606"
            ]
          },
          "metadata": {},
          "execution_count": 47
        }
      ],
      "source": [
        "r2_score(y_test, y_pred)"
      ]
    },
    {
      "cell_type": "markdown",
      "source": [
        "# 4.0 - Conclusão\n",
        "\n",
        "A Atividade A3 de Machine Learning e Deep Learning se conclui aqui. Neste trabalho foi abordado todos os principais tópicos sobre as matérias de ML e Deep Learning, desde seu surgimento, sua evolução ao longo das décadas, seus principais conceitos, até a resolução de um problema criado por nós mesmos, envolto de um Notebook que também foi escolhido pelo grupo. O problema criado foi solucionado através das técnicas de ML apresentadas em sala, a qual pudemos escolher apenas uma para ser aplicada no modelo. \n",
        "\n",
        "O problema sobre como um filho que herdou a loja de carros de seu pai, mas não sabe como tabelar os preços dos veículos, foi resolvido através de uma Regressão Linear Múltipla que conseguiu de acordo com todos os antigos preços, quantidade de vendas, marcas e etc.; foi capaz de predizer as tabelas de valores dos carros que tanto atrapalhavam o novo vendedor. \n",
        "\n",
        "Por fim, podemos concluir que essa atividade de ML e Deep Learning foi de profunda importância para que nós pudéssemos aplicar todo nosso conhecimento em prática com um problema que pode acontecer rotineiramente em nossas carreiras profissionais. \n"
      ],
      "metadata": {
        "id": "WZ0C3BVJ50fq"
      }
    },
    {
      "cell_type": "markdown",
      "source": [
        "# 5.0 - Referencias Bibliograficas\n",
        "\n",
        "•\thttps://www.datageeks.com.br/algoritmos-de-machine-learning/\n",
        "\n",
        "•\thttps://fontana.paginas.ufsc.br/files/2018/03/apostila_ML_pt2.pdf\n",
        "\n",
        "•\thttps://didatica.tech/o-que-e-e-como-funciona-o-algoritmo-knn/#:~:text=O%20KNN%20%C3%A9%20muito%20utilizado,rela%C3%A7%C3%A3o%20aos%20vizinhos%20mais%20pr%C3%B3ximos.\n",
        "\n",
        "•\thttps://medium.com/kunumi/m%C3%A9tricas-de-avalia%C3%A7%C3%A3o-em-machine-learning-classifica%C3%A7%C3%A3o-49340dcdb198\n",
        "\n",
        "•\thttps://blog.somostera.com/data-science/dataset\n",
        "\n",
        "•\thttps://www.ibm.com/br-pt/cloud/learn/exploratory-data-analysis\n",
        "\n",
        "•\thttps://www.datageeks.com.br/pre-processamento-de-dados/#:~:text=O%20pr%C3%A9%2Dprocessamento%20%C3%A9%20um,dos%20dados%20que%20ser%C3%A3o%20analisados.\n",
        "\n",
        "•\thttps://www.computersciencemaster.com.br/como-tratar-valores-faltantes-em-um-dataset/\n",
        "\n",
        "•\thttps://medium.com/@alegeorgelustosa/m%C3%A9todos-de-tratamento-para-dados-categ%C3%B3ricos-em-python-a66f910215c7\n",
        "\n",
        "•\thttps://medium.com/ipnet-growth-partner/padronizacao-normalizacao-dados-machine-learning-f8f29246c12\n",
        "\n",
        "• https://www.digitalocean.com/community/tutorials/how-to-use-the-python-filter-function-pt\n",
        "\n",
        "• https://seaborn.pydata.org/tutorial/distributions.html\n",
        "\n",
        "• https://pandas.pydata.org/docs/index.html\n",
        "\n",
        "• https://vitorborbarodrigues.medium.com/visualiza%C3%A7%C3%A3o-de-dados-com-matplotlib-alguns-conceitos-intermedi%C3%A1rios-b33fcda50138\n",
        "\n",
        "• https://acervolima.com/tutorial-python-seaborn/\n"
      ],
      "metadata": {
        "id": "PWh8doFWyPG0"
      }
    }
  ],
  "metadata": {
    "colab": {
      "provenance": [],
      "include_colab_link": true
    },
    "kernelspec": {
      "display_name": "Python 3",
      "name": "python3"
    },
    "language_info": {
      "name": "python"
    }
  },
  "nbformat": 4,
  "nbformat_minor": 0
}