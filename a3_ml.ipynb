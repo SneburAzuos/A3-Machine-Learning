{
  "nbformat": 4,
  "nbformat_minor": 0,
  "metadata": {
    "colab": {
      "provenance": [],
      "include_colab_link": true
    },
    "kernelspec": {
      "name": "python3",
      "display_name": "Python 3"
    },
    "language_info": {
      "name": "python"
    }
  },
  "cells": [
    {
      "cell_type": "markdown",
      "metadata": {
        "id": "view-in-github",
        "colab_type": "text"
      },
      "source": [
        "<a href=\"https://colab.research.google.com/github/SneburAzuos/Java-A3/blob/main/a3_ml.ipynb\" target=\"_parent\"><img src=\"https://colab.research.google.com/assets/colab-badge.svg\" alt=\"Open In Colab\"/></a>"
      ]
    },
    {
      "cell_type": "markdown",
      "source": [
        "\n",
        "# **A3 Machine Learning**"
      ],
      "metadata": {
        "id": "4oUH_GS1h4MD"
      }
    },
    {
      "cell_type": "markdown",
      "source": [
        "Importando as bibliotecas"
      ],
      "metadata": {
        "id": "UZdt855LCIbu"
      }
    },
    {
      "cell_type": "code",
      "source": [
        "import pandas as pd\n",
        "import numpy as np\n",
        "import seaborn as sb\n",
        "import matplotlib.pyplot as plt\n",
        "\n",
        "\n",
        "#Importando o dataset para o notebook\n",
        "df = pd.read_csv(\"/content/drive/MyDrive/Colab Notebooks/autoscout24-germany-dataset.csv\")\n",
        "print(df)\n"
      ],
      "metadata": {
        "id": "UpWLzPUGkl8i",
        "colab": {
          "base_uri": "https://localhost:8080/"
        },
        "outputId": "88a6a107-0b30-4ace-f985-b24955c7fdcd"
      },
      "execution_count": 24,
      "outputs": [
        {
          "output_type": "stream",
          "name": "stdout",
          "text": [
            "       mileage        make   model               fuel    gear       offerType  \\\n",
            "0       235000         BMW     316             Diesel  Manual            Used   \n",
            "1        92800  Volkswagen    Golf           Gasoline  Manual            Used   \n",
            "2       149300        SEAT    Exeo           Gasoline  Manual            Used   \n",
            "3        96200     Renault  Megane           Gasoline  Manual            Used   \n",
            "4       156000     Peugeot     308           Gasoline  Manual            Used   \n",
            "...        ...         ...     ...                ...     ...             ...   \n",
            "46400       99        Fiat     500  Electric/Gasoline  Manual  Pre-registered   \n",
            "46401       99        Fiat     500  Electric/Gasoline  Manual  Pre-registered   \n",
            "46402       99        Fiat     500  Electric/Gasoline  Manual  Pre-registered   \n",
            "46403       99        Fiat     500  Electric/Gasoline  Manual  Pre-registered   \n",
            "46404       99        Fiat     500  Electric/Gasoline  Manual  Pre-registered   \n",
            "\n",
            "       price     hp  year  \n",
            "0       6800  116.0  2011  \n",
            "1       6877  122.0  2011  \n",
            "2       6900  160.0  2011  \n",
            "3       6950  110.0  2011  \n",
            "4       6950  156.0  2011  \n",
            "...      ...    ...   ...  \n",
            "46400  12990   71.0  2021  \n",
            "46401  12990   71.0  2021  \n",
            "46402  12990   71.0  2021  \n",
            "46403  12990   71.0  2021  \n",
            "46404  12990   71.0  2021  \n",
            "\n",
            "[46405 rows x 9 columns]\n"
          ]
        }
      ]
    },
    {
      "cell_type": "markdown",
      "source": [
        "# Nova seção"
      ],
      "metadata": {
        "id": "fJixksdE_ARB"
      }
    },
    {
      "cell_type": "code",
      "source": [
        "from google.colab import drive\n",
        "drive.mount('/content/drive')"
      ],
      "metadata": {
        "colab": {
          "base_uri": "https://localhost:8080/"
        },
        "id": "OI7J4ucq_CYf",
        "outputId": "c272dd2c-646d-4033-ac46-f6b1a62002dd"
      },
      "execution_count": 4,
      "outputs": [
        {
          "output_type": "stream",
          "name": "stdout",
          "text": [
            "Drive already mounted at /content/drive; to attempt to forcibly remount, call drive.mount(\"/content/drive\", force_remount=True).\n"
          ]
        }
      ]
    },
    {
      "cell_type": "markdown",
      "source": [
        "1. Analise Exploratoria "
      ],
      "metadata": {
        "id": "4h3sHXCCCLrW"
      }
    },
    {
      "cell_type": "code",
      "source": [
        "# verificar o número de linhas e colunas do dataframe\n",
        "df.shape"
      ],
      "metadata": {
        "colab": {
          "base_uri": "https://localhost:8080/"
        },
        "id": "od11Vcb8QL6Q",
        "outputId": "bb113456-45c0-44b8-9841-f151a3249cd6"
      },
      "execution_count": 11,
      "outputs": [
        {
          "output_type": "execute_result",
          "data": {
            "text/plain": [
              "(46071, 9)"
            ]
          },
          "metadata": {},
          "execution_count": 11
        }
      ]
    },
    {
      "cell_type": "code",
      "source": [
        "# Utilizar o método info() para visualizar as informações do dataframe\n",
        "df.info"
      ],
      "metadata": {
        "colab": {
          "base_uri": "https://localhost:8080/"
        },
        "id": "ufmd9VsgQW7M",
        "outputId": "83591cae-90af-4f2f-e9e7-575ad2797f86"
      },
      "execution_count": 12,
      "outputs": [
        {
          "output_type": "execute_result",
          "data": {
            "text/plain": [
              "<bound method DataFrame.info of        mileage        make   model      fuel    gear       offerType  price  \\\n",
              "0       235000         BMW     316    Diesel  Manual            Used   6800   \n",
              "1        92800  Volkswagen    Golf  Gasoline  Manual            Used   6877   \n",
              "2       149300        SEAT    Exeo  Gasoline  Manual            Used   6900   \n",
              "3        96200     Renault  Megane  Gasoline  Manual            Used   6950   \n",
              "4       156000     Peugeot     308  Gasoline  Manual            Used   6950   \n",
              "...        ...         ...     ...       ...     ...             ...    ...   \n",
              "46400       99        Fiat     500    Hybrid  Manual  Pre-registered  12990   \n",
              "46401       99        Fiat     500    Hybrid  Manual  Pre-registered  12990   \n",
              "46402       99        Fiat     500    Hybrid  Manual  Pre-registered  12990   \n",
              "46403       99        Fiat     500    Hybrid  Manual  Pre-registered  12990   \n",
              "46404       99        Fiat     500    Hybrid  Manual  Pre-registered  12990   \n",
              "\n",
              "          hp  year  \n",
              "0      116.0  2011  \n",
              "1      122.0  2011  \n",
              "2      160.0  2011  \n",
              "3      110.0  2011  \n",
              "4      156.0  2011  \n",
              "...      ...   ...  \n",
              "46400   71.0  2021  \n",
              "46401   71.0  2021  \n",
              "46402   71.0  2021  \n",
              "46403   71.0  2021  \n",
              "46404   71.0  2021  \n",
              "\n",
              "[46071 rows x 9 columns]>"
            ]
          },
          "metadata": {},
          "execution_count": 12
        }
      ]
    },
    {
      "cell_type": "code",
      "source": [
        "#limpando as colunas vazias/// Primeiro fiz uma contagem de quantos valores vazios tinha no dataset\n",
        "df.isnull().sum()\n"
      ],
      "metadata": {
        "id": "GRCuFDNHLODf",
        "colab": {
          "base_uri": "https://localhost:8080/"
        },
        "outputId": "465479f0-6ed5-4bcb-d3fb-508b901adcb6"
      },
      "execution_count": 5,
      "outputs": [
        {
          "output_type": "execute_result",
          "data": {
            "text/plain": [
              "mileage        0\n",
              "make           0\n",
              "model        143\n",
              "fuel           0\n",
              "gear         182\n",
              "offerType      0\n",
              "price          0\n",
              "hp            29\n",
              "year           0\n",
              "dtype: int64"
            ]
          },
          "metadata": {},
          "execution_count": 5
        }
      ]
    },
    {
      "cell_type": "code",
      "source": [
        "#apagar linhas duplicadas\n",
        "df = df.drop_duplicates()"
      ],
      "metadata": {
        "id": "BU3CUHI-Rj43"
      },
      "execution_count": 14,
      "outputs": []
    },
    {
      "cell_type": "code",
      "source": [
        "df.shape"
      ],
      "metadata": {
        "colab": {
          "base_uri": "https://localhost:8080/"
        },
        "id": "a4noy3vsRwkP",
        "outputId": "933a2e16-e2fe-4278-877f-6a00bfa39699"
      },
      "execution_count": 15,
      "outputs": [
        {
          "output_type": "execute_result",
          "data": {
            "text/plain": [
              "(43947, 9)"
            ]
          },
          "metadata": {},
          "execution_count": 15
        }
      ]
    },
    {
      "cell_type": "code",
      "source": [
        "#Limpei os valores vazios do dataset\n",
        "formaA = df.shape\n",
        "print(\"Numero de colunas antes:\", formaA)\n",
        "df.dropna(subset=['model','gear','hp'], inplace=True)\n",
        "formaD = df.shape\n",
        "print(\"Numero de colunas depois:\", formaD)\n",
        "\n",
        "\n",
        "print(\"\\n\\n\\n\", df)"
      ],
      "metadata": {
        "id": "rCjEMIcwMQ4f",
        "colab": {
          "base_uri": "https://localhost:8080/"
        },
        "outputId": "8043e377-ad7a-4da4-cabf-8110fc2327f3"
      },
      "execution_count": 18,
      "outputs": [
        {
          "output_type": "stream",
          "name": "stdout",
          "text": [
            "Numero de colunas antes: (43947, 9)\n",
            "Numero de colunas depois: (43947, 9)\n",
            "\n",
            "\n",
            "\n",
            "        mileage        make   model      fuel    gear       offerType  price  \\\n",
            "0       235000         BMW     316    Diesel  Manual            Used   6800   \n",
            "1        92800  Volkswagen    Golf  Gasoline  Manual            Used   6877   \n",
            "2       149300        SEAT    Exeo  Gasoline  Manual            Used   6900   \n",
            "3        96200     Renault  Megane  Gasoline  Manual            Used   6950   \n",
            "4       156000     Peugeot     308  Gasoline  Manual            Used   6950   \n",
            "...        ...         ...     ...       ...     ...             ...    ...   \n",
            "46394       10     Citroen      C1  Gasoline  Manual  Pre-registered  12340   \n",
            "46396       99        Fiat     500    Hybrid  Manual  Pre-registered  12490   \n",
            "46397      550        Fiat     500    Hybrid  Manual   Demonstration  12805   \n",
            "46398      837        Fiat   Panda    Hybrid  Manual   Demonstration  12805   \n",
            "46399     1500       Skoda   Fabia  Gasoline  Manual   Demonstration  12980   \n",
            "\n",
            "          hp  year  \n",
            "0      116.0  2011  \n",
            "1      122.0  2011  \n",
            "2      160.0  2011  \n",
            "3      110.0  2011  \n",
            "4      156.0  2011  \n",
            "...      ...   ...  \n",
            "46394   72.0  2021  \n",
            "46396   71.0  2021  \n",
            "46397   69.0  2021  \n",
            "46398   69.0  2021  \n",
            "46399   60.0  2021  \n",
            "\n",
            "[43947 rows x 9 columns]\n"
          ]
        }
      ]
    },
    {
      "cell_type": "code",
      "source": [
        "#Trocando um nome para outro\n",
        "df['fuel'] = df ['fuel'].replace(['Electric/Gasoline'], 'Hybrid')\n",
        "print(df)"
      ],
      "metadata": {
        "id": "fP_RVmkwNMlP",
        "colab": {
          "base_uri": "https://localhost:8080/"
        },
        "outputId": "d986534c-360e-42a2-dfd6-244a4781128f"
      },
      "execution_count": 7,
      "outputs": [
        {
          "output_type": "stream",
          "name": "stdout",
          "text": [
            "       mileage        make   model      fuel    gear       offerType  price  \\\n",
            "0       235000         BMW     316    Diesel  Manual            Used   6800   \n",
            "1        92800  Volkswagen    Golf  Gasoline  Manual            Used   6877   \n",
            "2       149300        SEAT    Exeo  Gasoline  Manual            Used   6900   \n",
            "3        96200     Renault  Megane  Gasoline  Manual            Used   6950   \n",
            "4       156000     Peugeot     308  Gasoline  Manual            Used   6950   \n",
            "...        ...         ...     ...       ...     ...             ...    ...   \n",
            "46400       99        Fiat     500    Hybrid  Manual  Pre-registered  12990   \n",
            "46401       99        Fiat     500    Hybrid  Manual  Pre-registered  12990   \n",
            "46402       99        Fiat     500    Hybrid  Manual  Pre-registered  12990   \n",
            "46403       99        Fiat     500    Hybrid  Manual  Pre-registered  12990   \n",
            "46404       99        Fiat     500    Hybrid  Manual  Pre-registered  12990   \n",
            "\n",
            "          hp  year  \n",
            "0      116.0  2011  \n",
            "1      122.0  2011  \n",
            "2      160.0  2011  \n",
            "3      110.0  2011  \n",
            "4      156.0  2011  \n",
            "...      ...   ...  \n",
            "46400   71.0  2021  \n",
            "46401   71.0  2021  \n",
            "46402   71.0  2021  \n",
            "46403   71.0  2021  \n",
            "46404   71.0  2021  \n",
            "\n",
            "[46071 rows x 9 columns]\n"
          ]
        }
      ]
    },
    {
      "cell_type": "code",
      "source": [
        "#contagem de tipos de carros que não são usados ou novos\n",
        "df.query('offerType==\"Pre-registered\"' )\n"
      ],
      "metadata": {
        "id": "F5NMxrdhcxwa",
        "colab": {
          "base_uri": "https://localhost:8080/",
          "height": 424
        },
        "outputId": "4a347938-ae6c-4305-ed8a-19d6697583e5"
      },
      "execution_count": 8,
      "outputs": [
        {
          "output_type": "execute_result",
          "data": {
            "text/plain": [
              "       mileage    make  model      fuel    gear       offerType  price    hp  \\\n",
              "194        100    Fiat  Panda  Gasoline  Manual  Pre-registered  10600  69.0   \n",
              "195         15    Fiat  Panda    Hybrid  Manual  Pre-registered  10680  69.0   \n",
              "196         20  Toyota   Aygo  Gasoline  Manual  Pre-registered  10823  72.0   \n",
              "197         15    Fiat  Panda    Hybrid  Manual  Pre-registered  10980  69.0   \n",
              "198         15    Fiat  Panda    Hybrid  Manual  Pre-registered  10980  69.0   \n",
              "...        ...     ...    ...       ...     ...             ...    ...   ...   \n",
              "46400       99    Fiat    500    Hybrid  Manual  Pre-registered  12990  71.0   \n",
              "46401       99    Fiat    500    Hybrid  Manual  Pre-registered  12990  71.0   \n",
              "46402       99    Fiat    500    Hybrid  Manual  Pre-registered  12990  71.0   \n",
              "46403       99    Fiat    500    Hybrid  Manual  Pre-registered  12990  71.0   \n",
              "46404       99    Fiat    500    Hybrid  Manual  Pre-registered  12990  71.0   \n",
              "\n",
              "       year  \n",
              "194    2021  \n",
              "195    2021  \n",
              "196    2021  \n",
              "197    2021  \n",
              "198    2021  \n",
              "...     ...  \n",
              "46400  2021  \n",
              "46401  2021  \n",
              "46402  2021  \n",
              "46403  2021  \n",
              "46404  2021  \n",
              "\n",
              "[2768 rows x 9 columns]"
            ],
            "text/html": [
              "\n",
              "  <div id=\"df-c397081d-1863-4225-97ee-38edfd2df550\">\n",
              "    <div class=\"colab-df-container\">\n",
              "      <div>\n",
              "<style scoped>\n",
              "    .dataframe tbody tr th:only-of-type {\n",
              "        vertical-align: middle;\n",
              "    }\n",
              "\n",
              "    .dataframe tbody tr th {\n",
              "        vertical-align: top;\n",
              "    }\n",
              "\n",
              "    .dataframe thead th {\n",
              "        text-align: right;\n",
              "    }\n",
              "</style>\n",
              "<table border=\"1\" class=\"dataframe\">\n",
              "  <thead>\n",
              "    <tr style=\"text-align: right;\">\n",
              "      <th></th>\n",
              "      <th>mileage</th>\n",
              "      <th>make</th>\n",
              "      <th>model</th>\n",
              "      <th>fuel</th>\n",
              "      <th>gear</th>\n",
              "      <th>offerType</th>\n",
              "      <th>price</th>\n",
              "      <th>hp</th>\n",
              "      <th>year</th>\n",
              "    </tr>\n",
              "  </thead>\n",
              "  <tbody>\n",
              "    <tr>\n",
              "      <th>194</th>\n",
              "      <td>100</td>\n",
              "      <td>Fiat</td>\n",
              "      <td>Panda</td>\n",
              "      <td>Gasoline</td>\n",
              "      <td>Manual</td>\n",
              "      <td>Pre-registered</td>\n",
              "      <td>10600</td>\n",
              "      <td>69.0</td>\n",
              "      <td>2021</td>\n",
              "    </tr>\n",
              "    <tr>\n",
              "      <th>195</th>\n",
              "      <td>15</td>\n",
              "      <td>Fiat</td>\n",
              "      <td>Panda</td>\n",
              "      <td>Hybrid</td>\n",
              "      <td>Manual</td>\n",
              "      <td>Pre-registered</td>\n",
              "      <td>10680</td>\n",
              "      <td>69.0</td>\n",
              "      <td>2021</td>\n",
              "    </tr>\n",
              "    <tr>\n",
              "      <th>196</th>\n",
              "      <td>20</td>\n",
              "      <td>Toyota</td>\n",
              "      <td>Aygo</td>\n",
              "      <td>Gasoline</td>\n",
              "      <td>Manual</td>\n",
              "      <td>Pre-registered</td>\n",
              "      <td>10823</td>\n",
              "      <td>72.0</td>\n",
              "      <td>2021</td>\n",
              "    </tr>\n",
              "    <tr>\n",
              "      <th>197</th>\n",
              "      <td>15</td>\n",
              "      <td>Fiat</td>\n",
              "      <td>Panda</td>\n",
              "      <td>Hybrid</td>\n",
              "      <td>Manual</td>\n",
              "      <td>Pre-registered</td>\n",
              "      <td>10980</td>\n",
              "      <td>69.0</td>\n",
              "      <td>2021</td>\n",
              "    </tr>\n",
              "    <tr>\n",
              "      <th>198</th>\n",
              "      <td>15</td>\n",
              "      <td>Fiat</td>\n",
              "      <td>Panda</td>\n",
              "      <td>Hybrid</td>\n",
              "      <td>Manual</td>\n",
              "      <td>Pre-registered</td>\n",
              "      <td>10980</td>\n",
              "      <td>69.0</td>\n",
              "      <td>2021</td>\n",
              "    </tr>\n",
              "    <tr>\n",
              "      <th>...</th>\n",
              "      <td>...</td>\n",
              "      <td>...</td>\n",
              "      <td>...</td>\n",
              "      <td>...</td>\n",
              "      <td>...</td>\n",
              "      <td>...</td>\n",
              "      <td>...</td>\n",
              "      <td>...</td>\n",
              "      <td>...</td>\n",
              "    </tr>\n",
              "    <tr>\n",
              "      <th>46400</th>\n",
              "      <td>99</td>\n",
              "      <td>Fiat</td>\n",
              "      <td>500</td>\n",
              "      <td>Hybrid</td>\n",
              "      <td>Manual</td>\n",
              "      <td>Pre-registered</td>\n",
              "      <td>12990</td>\n",
              "      <td>71.0</td>\n",
              "      <td>2021</td>\n",
              "    </tr>\n",
              "    <tr>\n",
              "      <th>46401</th>\n",
              "      <td>99</td>\n",
              "      <td>Fiat</td>\n",
              "      <td>500</td>\n",
              "      <td>Hybrid</td>\n",
              "      <td>Manual</td>\n",
              "      <td>Pre-registered</td>\n",
              "      <td>12990</td>\n",
              "      <td>71.0</td>\n",
              "      <td>2021</td>\n",
              "    </tr>\n",
              "    <tr>\n",
              "      <th>46402</th>\n",
              "      <td>99</td>\n",
              "      <td>Fiat</td>\n",
              "      <td>500</td>\n",
              "      <td>Hybrid</td>\n",
              "      <td>Manual</td>\n",
              "      <td>Pre-registered</td>\n",
              "      <td>12990</td>\n",
              "      <td>71.0</td>\n",
              "      <td>2021</td>\n",
              "    </tr>\n",
              "    <tr>\n",
              "      <th>46403</th>\n",
              "      <td>99</td>\n",
              "      <td>Fiat</td>\n",
              "      <td>500</td>\n",
              "      <td>Hybrid</td>\n",
              "      <td>Manual</td>\n",
              "      <td>Pre-registered</td>\n",
              "      <td>12990</td>\n",
              "      <td>71.0</td>\n",
              "      <td>2021</td>\n",
              "    </tr>\n",
              "    <tr>\n",
              "      <th>46404</th>\n",
              "      <td>99</td>\n",
              "      <td>Fiat</td>\n",
              "      <td>500</td>\n",
              "      <td>Hybrid</td>\n",
              "      <td>Manual</td>\n",
              "      <td>Pre-registered</td>\n",
              "      <td>12990</td>\n",
              "      <td>71.0</td>\n",
              "      <td>2021</td>\n",
              "    </tr>\n",
              "  </tbody>\n",
              "</table>\n",
              "<p>2768 rows × 9 columns</p>\n",
              "</div>\n",
              "      <button class=\"colab-df-convert\" onclick=\"convertToInteractive('df-c397081d-1863-4225-97ee-38edfd2df550')\"\n",
              "              title=\"Convert this dataframe to an interactive table.\"\n",
              "              style=\"display:none;\">\n",
              "        \n",
              "  <svg xmlns=\"http://www.w3.org/2000/svg\" height=\"24px\"viewBox=\"0 0 24 24\"\n",
              "       width=\"24px\">\n",
              "    <path d=\"M0 0h24v24H0V0z\" fill=\"none\"/>\n",
              "    <path d=\"M18.56 5.44l.94 2.06.94-2.06 2.06-.94-2.06-.94-.94-2.06-.94 2.06-2.06.94zm-11 1L8.5 8.5l.94-2.06 2.06-.94-2.06-.94L8.5 2.5l-.94 2.06-2.06.94zm10 10l.94 2.06.94-2.06 2.06-.94-2.06-.94-.94-2.06-.94 2.06-2.06.94z\"/><path d=\"M17.41 7.96l-1.37-1.37c-.4-.4-.92-.59-1.43-.59-.52 0-1.04.2-1.43.59L10.3 9.45l-7.72 7.72c-.78.78-.78 2.05 0 2.83L4 21.41c.39.39.9.59 1.41.59.51 0 1.02-.2 1.41-.59l7.78-7.78 2.81-2.81c.8-.78.8-2.07 0-2.86zM5.41 20L4 18.59l7.72-7.72 1.47 1.35L5.41 20z\"/>\n",
              "  </svg>\n",
              "      </button>\n",
              "      \n",
              "  <style>\n",
              "    .colab-df-container {\n",
              "      display:flex;\n",
              "      flex-wrap:wrap;\n",
              "      gap: 12px;\n",
              "    }\n",
              "\n",
              "    .colab-df-convert {\n",
              "      background-color: #E8F0FE;\n",
              "      border: none;\n",
              "      border-radius: 50%;\n",
              "      cursor: pointer;\n",
              "      display: none;\n",
              "      fill: #1967D2;\n",
              "      height: 32px;\n",
              "      padding: 0 0 0 0;\n",
              "      width: 32px;\n",
              "    }\n",
              "\n",
              "    .colab-df-convert:hover {\n",
              "      background-color: #E2EBFA;\n",
              "      box-shadow: 0px 1px 2px rgba(60, 64, 67, 0.3), 0px 1px 3px 1px rgba(60, 64, 67, 0.15);\n",
              "      fill: #174EA6;\n",
              "    }\n",
              "\n",
              "    [theme=dark] .colab-df-convert {\n",
              "      background-color: #3B4455;\n",
              "      fill: #D2E3FC;\n",
              "    }\n",
              "\n",
              "    [theme=dark] .colab-df-convert:hover {\n",
              "      background-color: #434B5C;\n",
              "      box-shadow: 0px 1px 3px 1px rgba(0, 0, 0, 0.15);\n",
              "      filter: drop-shadow(0px 1px 2px rgba(0, 0, 0, 0.3));\n",
              "      fill: #FFFFFF;\n",
              "    }\n",
              "  </style>\n",
              "\n",
              "      <script>\n",
              "        const buttonEl =\n",
              "          document.querySelector('#df-c397081d-1863-4225-97ee-38edfd2df550 button.colab-df-convert');\n",
              "        buttonEl.style.display =\n",
              "          google.colab.kernel.accessAllowed ? 'block' : 'none';\n",
              "\n",
              "        async function convertToInteractive(key) {\n",
              "          const element = document.querySelector('#df-c397081d-1863-4225-97ee-38edfd2df550');\n",
              "          const dataTable =\n",
              "            await google.colab.kernel.invokeFunction('convertToInteractive',\n",
              "                                                     [key], {});\n",
              "          if (!dataTable) return;\n",
              "\n",
              "          const docLinkHtml = 'Like what you see? Visit the ' +\n",
              "            '<a target=\"_blank\" href=https://colab.research.google.com/notebooks/data_table.ipynb>data table notebook</a>'\n",
              "            + ' to learn more about interactive tables.';\n",
              "          element.innerHTML = '';\n",
              "          dataTable['output_type'] = 'display_data';\n",
              "          await google.colab.output.renderOutput(dataTable, element);\n",
              "          const docLink = document.createElement('div');\n",
              "          docLink.innerHTML = docLinkHtml;\n",
              "          element.appendChild(docLink);\n",
              "        }\n",
              "      </script>\n",
              "    </div>\n",
              "  </div>\n",
              "  "
            ]
          },
          "metadata": {},
          "execution_count": 8
        }
      ]
    },
    {
      "cell_type": "code",
      "source": [
        "df.info()\n"
      ],
      "metadata": {
        "colab": {
          "base_uri": "https://localhost:8080/"
        },
        "id": "OJrT_g7vBLp5",
        "outputId": "b4cd6f16-9fe5-46fa-ab28-074b207f65ff"
      },
      "execution_count": 9,
      "outputs": [
        {
          "output_type": "stream",
          "name": "stdout",
          "text": [
            "<class 'pandas.core.frame.DataFrame'>\n",
            "Int64Index: 46071 entries, 0 to 46404\n",
            "Data columns (total 9 columns):\n",
            " #   Column     Non-Null Count  Dtype  \n",
            "---  ------     --------------  -----  \n",
            " 0   mileage    46071 non-null  int64  \n",
            " 1   make       46071 non-null  object \n",
            " 2   model      46071 non-null  object \n",
            " 3   fuel       46071 non-null  object \n",
            " 4   gear       46071 non-null  object \n",
            " 5   offerType  46071 non-null  object \n",
            " 6   price      46071 non-null  int64  \n",
            " 7   hp         46071 non-null  float64\n",
            " 8   year       46071 non-null  int64  \n",
            "dtypes: float64(1), int64(3), object(5)\n",
            "memory usage: 3.5+ MB\n"
          ]
        }
      ]
    },
    {
      "cell_type": "code",
      "source": [
        "df.head(10)"
      ],
      "metadata": {
        "colab": {
          "base_uri": "https://localhost:8080/",
          "height": 363
        },
        "id": "Pd6skqdVUnYc",
        "outputId": "7e7962db-2848-4482-a720-53377651186f"
      },
      "execution_count": 21,
      "outputs": [
        {
          "output_type": "execute_result",
          "data": {
            "text/plain": [
              "   mileage        make    model      fuel       gear offerType  price     hp  \\\n",
              "0   235000         BMW      316    Diesel     Manual      Used   6800  116.0   \n",
              "1    92800  Volkswagen     Golf  Gasoline     Manual      Used   6877  122.0   \n",
              "2   149300        SEAT     Exeo  Gasoline     Manual      Used   6900  160.0   \n",
              "3    96200     Renault   Megane  Gasoline     Manual      Used   6950  110.0   \n",
              "4   156000     Peugeot      308  Gasoline     Manual      Used   6950  156.0   \n",
              "5   147000      Toyota    Auris    Hybrid  Automatic      Used   6950   99.0   \n",
              "6    91894     Renault   Scenic    Diesel     Manual      Used   6970  131.0   \n",
              "7   127500        Opel   Zafira  Gasoline     Manual      Used   6972  116.0   \n",
              "8   115000       Mazda        3  Gasoline  Automatic      Used   6980  150.0   \n",
              "9      104        Ford  Transit    Diesel     Manual      Used   6990   86.0   \n",
              "\n",
              "   year  \n",
              "0  2011  \n",
              "1  2011  \n",
              "2  2011  \n",
              "3  2011  \n",
              "4  2011  \n",
              "5  2011  \n",
              "6  2011  \n",
              "7  2011  \n",
              "8  2011  \n",
              "9  2011  "
            ],
            "text/html": [
              "\n",
              "  <div id=\"df-f80a6a98-0aec-4578-bb55-bd5a1ea5f682\">\n",
              "    <div class=\"colab-df-container\">\n",
              "      <div>\n",
              "<style scoped>\n",
              "    .dataframe tbody tr th:only-of-type {\n",
              "        vertical-align: middle;\n",
              "    }\n",
              "\n",
              "    .dataframe tbody tr th {\n",
              "        vertical-align: top;\n",
              "    }\n",
              "\n",
              "    .dataframe thead th {\n",
              "        text-align: right;\n",
              "    }\n",
              "</style>\n",
              "<table border=\"1\" class=\"dataframe\">\n",
              "  <thead>\n",
              "    <tr style=\"text-align: right;\">\n",
              "      <th></th>\n",
              "      <th>mileage</th>\n",
              "      <th>make</th>\n",
              "      <th>model</th>\n",
              "      <th>fuel</th>\n",
              "      <th>gear</th>\n",
              "      <th>offerType</th>\n",
              "      <th>price</th>\n",
              "      <th>hp</th>\n",
              "      <th>year</th>\n",
              "    </tr>\n",
              "  </thead>\n",
              "  <tbody>\n",
              "    <tr>\n",
              "      <th>0</th>\n",
              "      <td>235000</td>\n",
              "      <td>BMW</td>\n",
              "      <td>316</td>\n",
              "      <td>Diesel</td>\n",
              "      <td>Manual</td>\n",
              "      <td>Used</td>\n",
              "      <td>6800</td>\n",
              "      <td>116.0</td>\n",
              "      <td>2011</td>\n",
              "    </tr>\n",
              "    <tr>\n",
              "      <th>1</th>\n",
              "      <td>92800</td>\n",
              "      <td>Volkswagen</td>\n",
              "      <td>Golf</td>\n",
              "      <td>Gasoline</td>\n",
              "      <td>Manual</td>\n",
              "      <td>Used</td>\n",
              "      <td>6877</td>\n",
              "      <td>122.0</td>\n",
              "      <td>2011</td>\n",
              "    </tr>\n",
              "    <tr>\n",
              "      <th>2</th>\n",
              "      <td>149300</td>\n",
              "      <td>SEAT</td>\n",
              "      <td>Exeo</td>\n",
              "      <td>Gasoline</td>\n",
              "      <td>Manual</td>\n",
              "      <td>Used</td>\n",
              "      <td>6900</td>\n",
              "      <td>160.0</td>\n",
              "      <td>2011</td>\n",
              "    </tr>\n",
              "    <tr>\n",
              "      <th>3</th>\n",
              "      <td>96200</td>\n",
              "      <td>Renault</td>\n",
              "      <td>Megane</td>\n",
              "      <td>Gasoline</td>\n",
              "      <td>Manual</td>\n",
              "      <td>Used</td>\n",
              "      <td>6950</td>\n",
              "      <td>110.0</td>\n",
              "      <td>2011</td>\n",
              "    </tr>\n",
              "    <tr>\n",
              "      <th>4</th>\n",
              "      <td>156000</td>\n",
              "      <td>Peugeot</td>\n",
              "      <td>308</td>\n",
              "      <td>Gasoline</td>\n",
              "      <td>Manual</td>\n",
              "      <td>Used</td>\n",
              "      <td>6950</td>\n",
              "      <td>156.0</td>\n",
              "      <td>2011</td>\n",
              "    </tr>\n",
              "    <tr>\n",
              "      <th>5</th>\n",
              "      <td>147000</td>\n",
              "      <td>Toyota</td>\n",
              "      <td>Auris</td>\n",
              "      <td>Hybrid</td>\n",
              "      <td>Automatic</td>\n",
              "      <td>Used</td>\n",
              "      <td>6950</td>\n",
              "      <td>99.0</td>\n",
              "      <td>2011</td>\n",
              "    </tr>\n",
              "    <tr>\n",
              "      <th>6</th>\n",
              "      <td>91894</td>\n",
              "      <td>Renault</td>\n",
              "      <td>Scenic</td>\n",
              "      <td>Diesel</td>\n",
              "      <td>Manual</td>\n",
              "      <td>Used</td>\n",
              "      <td>6970</td>\n",
              "      <td>131.0</td>\n",
              "      <td>2011</td>\n",
              "    </tr>\n",
              "    <tr>\n",
              "      <th>7</th>\n",
              "      <td>127500</td>\n",
              "      <td>Opel</td>\n",
              "      <td>Zafira</td>\n",
              "      <td>Gasoline</td>\n",
              "      <td>Manual</td>\n",
              "      <td>Used</td>\n",
              "      <td>6972</td>\n",
              "      <td>116.0</td>\n",
              "      <td>2011</td>\n",
              "    </tr>\n",
              "    <tr>\n",
              "      <th>8</th>\n",
              "      <td>115000</td>\n",
              "      <td>Mazda</td>\n",
              "      <td>3</td>\n",
              "      <td>Gasoline</td>\n",
              "      <td>Automatic</td>\n",
              "      <td>Used</td>\n",
              "      <td>6980</td>\n",
              "      <td>150.0</td>\n",
              "      <td>2011</td>\n",
              "    </tr>\n",
              "    <tr>\n",
              "      <th>9</th>\n",
              "      <td>104</td>\n",
              "      <td>Ford</td>\n",
              "      <td>Transit</td>\n",
              "      <td>Diesel</td>\n",
              "      <td>Manual</td>\n",
              "      <td>Used</td>\n",
              "      <td>6990</td>\n",
              "      <td>86.0</td>\n",
              "      <td>2011</td>\n",
              "    </tr>\n",
              "  </tbody>\n",
              "</table>\n",
              "</div>\n",
              "      <button class=\"colab-df-convert\" onclick=\"convertToInteractive('df-f80a6a98-0aec-4578-bb55-bd5a1ea5f682')\"\n",
              "              title=\"Convert this dataframe to an interactive table.\"\n",
              "              style=\"display:none;\">\n",
              "        \n",
              "  <svg xmlns=\"http://www.w3.org/2000/svg\" height=\"24px\"viewBox=\"0 0 24 24\"\n",
              "       width=\"24px\">\n",
              "    <path d=\"M0 0h24v24H0V0z\" fill=\"none\"/>\n",
              "    <path d=\"M18.56 5.44l.94 2.06.94-2.06 2.06-.94-2.06-.94-.94-2.06-.94 2.06-2.06.94zm-11 1L8.5 8.5l.94-2.06 2.06-.94-2.06-.94L8.5 2.5l-.94 2.06-2.06.94zm10 10l.94 2.06.94-2.06 2.06-.94-2.06-.94-.94-2.06-.94 2.06-2.06.94z\"/><path d=\"M17.41 7.96l-1.37-1.37c-.4-.4-.92-.59-1.43-.59-.52 0-1.04.2-1.43.59L10.3 9.45l-7.72 7.72c-.78.78-.78 2.05 0 2.83L4 21.41c.39.39.9.59 1.41.59.51 0 1.02-.2 1.41-.59l7.78-7.78 2.81-2.81c.8-.78.8-2.07 0-2.86zM5.41 20L4 18.59l7.72-7.72 1.47 1.35L5.41 20z\"/>\n",
              "  </svg>\n",
              "      </button>\n",
              "      \n",
              "  <style>\n",
              "    .colab-df-container {\n",
              "      display:flex;\n",
              "      flex-wrap:wrap;\n",
              "      gap: 12px;\n",
              "    }\n",
              "\n",
              "    .colab-df-convert {\n",
              "      background-color: #E8F0FE;\n",
              "      border: none;\n",
              "      border-radius: 50%;\n",
              "      cursor: pointer;\n",
              "      display: none;\n",
              "      fill: #1967D2;\n",
              "      height: 32px;\n",
              "      padding: 0 0 0 0;\n",
              "      width: 32px;\n",
              "    }\n",
              "\n",
              "    .colab-df-convert:hover {\n",
              "      background-color: #E2EBFA;\n",
              "      box-shadow: 0px 1px 2px rgba(60, 64, 67, 0.3), 0px 1px 3px 1px rgba(60, 64, 67, 0.15);\n",
              "      fill: #174EA6;\n",
              "    }\n",
              "\n",
              "    [theme=dark] .colab-df-convert {\n",
              "      background-color: #3B4455;\n",
              "      fill: #D2E3FC;\n",
              "    }\n",
              "\n",
              "    [theme=dark] .colab-df-convert:hover {\n",
              "      background-color: #434B5C;\n",
              "      box-shadow: 0px 1px 3px 1px rgba(0, 0, 0, 0.15);\n",
              "      filter: drop-shadow(0px 1px 2px rgba(0, 0, 0, 0.3));\n",
              "      fill: #FFFFFF;\n",
              "    }\n",
              "  </style>\n",
              "\n",
              "      <script>\n",
              "        const buttonEl =\n",
              "          document.querySelector('#df-f80a6a98-0aec-4578-bb55-bd5a1ea5f682 button.colab-df-convert');\n",
              "        buttonEl.style.display =\n",
              "          google.colab.kernel.accessAllowed ? 'block' : 'none';\n",
              "\n",
              "        async function convertToInteractive(key) {\n",
              "          const element = document.querySelector('#df-f80a6a98-0aec-4578-bb55-bd5a1ea5f682');\n",
              "          const dataTable =\n",
              "            await google.colab.kernel.invokeFunction('convertToInteractive',\n",
              "                                                     [key], {});\n",
              "          if (!dataTable) return;\n",
              "\n",
              "          const docLinkHtml = 'Like what you see? Visit the ' +\n",
              "            '<a target=\"_blank\" href=https://colab.research.google.com/notebooks/data_table.ipynb>data table notebook</a>'\n",
              "            + ' to learn more about interactive tables.';\n",
              "          element.innerHTML = '';\n",
              "          dataTable['output_type'] = 'display_data';\n",
              "          await google.colab.output.renderOutput(dataTable, element);\n",
              "          const docLink = document.createElement('div');\n",
              "          docLink.innerHTML = docLinkHtml;\n",
              "          element.appendChild(docLink);\n",
              "        }\n",
              "      </script>\n",
              "    </div>\n",
              "  </div>\n",
              "  "
            ]
          },
          "metadata": {},
          "execution_count": 21
        }
      ]
    },
    {
      "cell_type": "code",
      "source": [],
      "metadata": {
        "id": "nGrdhW9lhuTi"
      },
      "execution_count": null,
      "outputs": []
    }
  ]
}